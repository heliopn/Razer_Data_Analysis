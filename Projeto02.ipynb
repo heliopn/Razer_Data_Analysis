{
 "cells": [
  {
   "cell_type": "markdown",
   "metadata": {},
   "source": [
    "# Projeto 2 - Classificador Automático de Sentimento\n",
    "\n",
    "Você foi contratado por uma empresa parar analisar como os clientes estão reagindo a um determinado produto no Twitter. A empresa deseja que você crie um programa que irá analisar as mensagens disponíveis e classificará como \"relevante\" ou \"irrelevante\". Com isso ela deseja que mensagens negativas, que denigrem o nome do produto, ou que mereçam destaque, disparem um foco de atenção da área de marketing.<br /><br />\n",
    "Como aluno de Ciência dos Dados, você lembrou do Teorema de Bayes, mais especificamente do Classificador Naive-Bayes, que é largamente utilizado em filtros anti-spam de e-mails. O classificador permite calcular qual a probabilidade de uma mensagem ser relevante dadas as palavras em seu conteúdo.<br /><br />\n",
    "Para realizar o MVP (*minimum viable product*) do projeto, você precisa implementar uma versão do classificador que \"aprende\" o que é relevante com uma base de treinamento e compara a performance dos resultados com uma base de testes.<br /><br />\n",
    "Após validado, o seu protótipo poderá também capturar e classificar automaticamente as mensagens da plataforma.\n",
    "\n",
    "## Informações do Projeto\n",
    "\n",
    "Prazo: 13/Set até às 23:59.<br />\n",
    "Grupo: 1 ou 2 pessoas.<br /><br />\n",
    "Entregáveis via GitHub: \n",
    "* Arquivo notebook com o código do classificador, seguindo as orientações abaixo.\n",
    "* Arquivo Excel com as bases de treinamento e teste totalmente classificado.\n",
    "\n",
    "**NÃO disponibilizar o arquivo com os *access keys/tokens* do Twitter.**\n",
    "\n",
    "\n",
    "### Check 3: \n",
    "\n",
    "Até o dia 06 de Setembro às 23:59, o notebook e o xlsx devem estar no Github com as seguintes evidências: \n",
    "    * Conta no twitter criada.\n",
    "    * Produto escolhido.\n",
    "    * Arquivo Excel contendo a base de treinamento e teste já classificado.\n",
    "\n",
    "Sugestão de leitura:<br />\n",
    "http://docs.tweepy.org/en/v3.5.0/index.html<br />\n",
    "https://monkeylearn.com/blog/practical-explanation-naive-bayes-classifier/"
   ]
  },
  {
   "cell_type": "markdown",
   "metadata": {},
   "source": [
    "___\n",
    "\n",
    "## Preparando o ambiente\n",
    "\n",
    "Instalando a biblioteca *tweepy* para realizar a conexão com o Twitter:"
   ]
  },
  {
   "cell_type": "code",
   "execution_count": 1,
   "metadata": {
    "collapsed": true
   },
   "outputs": [],
   "source": [
    "%%capture\n",
    "\n",
    "#Instalando o tweepy\n",
    "!pip install tweepy"
   ]
  },
  {
   "cell_type": "markdown",
   "metadata": {},
   "source": [
    "Importando as Bibliotecas que serão utilizadas. Esteja livre para adicionar outras."
   ]
  },
  {
   "cell_type": "code",
   "execution_count": 2,
   "metadata": {
    "collapsed": true
   },
   "outputs": [],
   "source": [
    "import tweepy\n",
    "import math\n",
    "import os.path\n",
    "import pandas as pd\n",
    "import json\n",
    "from string import *\n",
    "from random import shuffle\n",
    "import sys\n",
    "from mpmath import *"
   ]
  },
  {
   "cell_type": "markdown",
   "metadata": {},
   "source": [
    "___\n",
    "## Autenticando no  Twitter\n",
    "\n",
    "Para realizar a captura dos dados é necessário ter uma conta cadastrada no twitter:\n",
    "\n",
    "* Conta: ***@jhp_nt***\n",
    "\n",
    "\n",
    "1. Caso ainda não tenha uma: https://twitter.com/signup\n",
    "1. Depois é necessário registrar um app para usar a biblioteca: https://apps.twitter.com/\n",
    "1. Dentro do registro do App, na aba Keys and Access Tokens, anotar os seguintes campos:\n",
    "    1. Consumer Key (API Key)\n",
    "    1. Consumer Secret (API Secret)\n",
    "1. Mais abaixo, gere um Token e anote também:\n",
    "    1. Access Token\n",
    "    1. Access Token Secret\n",
    "    \n",
    "1. Preencha os valores no arquivo \"auth.pass\"\n",
    "\n",
    "**ATENÇÃO**: Nunca divulgue os dados desse arquivo online (GitHub, etc). Ele contém as chaves necessárias para realizar as operações no twitter de forma automática e portanto é equivalente a ser \"hackeado\". De posse desses dados, pessoas mal intencionadas podem fazer todas as operações manuais (tweetar, seguir, bloquear/desbloquear, listar os seguidores, etc). Para efeito do projeto, esse arquivo não precisa ser entregue!!!"
   ]
  },
  {
   "cell_type": "code",
   "execution_count": 3,
   "metadata": {
    "collapsed": true
   },
   "outputs": [],
   "source": [
    "#Dados de autenticação do twitter:\n",
    "\n",
    "#Coloque aqui o identificador da conta no twitter: @jhp_nt\n",
    "\n",
    "#leitura do arquivo no formato JSON\n",
    "with open(r'C:\\Users\\hpaiv\\Desktop\\Insper\\Pass\\auth.pass') as fp:    \n",
    "    data = json.load(fp)\n",
    "\n",
    "#Configurando a biblioteca. Não modificar\n",
    "auth = tweepy.OAuthHandler(data['consumer_key'], data['consumer_secret'])\n",
    "auth.set_access_token(data['access_token'], data['access_token_secret'])"
   ]
  },
  {
   "cell_type": "markdown",
   "metadata": {},
   "source": [
    "___\n",
    "## Coletando Dados\n",
    "\n",
    "Agora vamos coletar os dados. Tenha em mente que dependendo do produto escolhido, não haverá uma quantidade significativa de mensagens, ou ainda poder haver muitos retweets.<br /><br /> \n",
    "Configurando:"
   ]
  },
  {
   "cell_type": "code",
   "execution_count": 4,
   "metadata": {
    "collapsed": true
   },
   "outputs": [],
   "source": [
    "#Produto escolhido:\n",
    "produto = 'Razer'\n",
    "\n",
    "#Quantidade mínima de mensagens capturadas:\n",
    "n = 500\n",
    "#Quantidade mínima de mensagens para a base de treinamento:\n",
    "t = 300\n",
    "\n",
    "#Filtro de língua, escolha uma na tabela ISO 639-1.\n",
    "lang = 'pt'"
   ]
  },
  {
   "cell_type": "markdown",
   "metadata": {},
   "source": [
    "Capturando os dados do twitter:"
   ]
  },
  {
   "cell_type": "code",
   "execution_count": 5,
   "metadata": {
    "collapsed": true
   },
   "outputs": [],
   "source": [
    "#Cria um objeto para a captura\n",
    "api = tweepy.API(auth)\n",
    "\n",
    "#Inicia a captura, para mais detalhes: ver a documentação do tweepy\n",
    "i = 1\n",
    "msgs = []\n",
    "for msg in tweepy.Cursor(api.search, q=produto, lang=lang).items():    \n",
    "    msgs.append(msg.text.lower())\n",
    "    i += 1\n",
    "    if i > n:\n",
    "        break\n",
    "\n",
    "#Embaralhando as mensagens para reduzir um possível viés\n",
    "shuffle(msgs)"
   ]
  },
  {
   "cell_type": "markdown",
   "metadata": {},
   "source": [
    "Salvando os dados em uma planilha Excel:"
   ]
  },
  {
   "cell_type": "code",
   "execution_count": 6,
   "metadata": {
    "collapsed": true
   },
   "outputs": [],
   "source": [
    "#Verifica se o arquivo não existe para não substituir um conjunto pronto\n",
    "if not os.path.isfile('./{0}.xlsx'.format(produto)):\n",
    "    \n",
    "    #Abre o arquivo para escrita\n",
    "    writer = pd.ExcelWriter('{0}.xlsx'.format(produto))\n",
    "\n",
    "    #divide o conjunto de mensagens em duas planilhas\n",
    "    dft = pd.DataFrame({'Treinamento' : pd.Series(msgs[:t])})\n",
    "    dft.to_excel(excel_writer = writer, sheet_name = 'Treinamento', index = False)\n",
    "\n",
    "    dfc = pd.DataFrame({'Teste' : pd.Series(msgs[t:])})\n",
    "    dfc.to_excel(excel_writer = writer, sheet_name = 'Teste', index = False)\n",
    "\n",
    "    #fecha o arquivo\n",
    "    writer.save()"
   ]
  },
  {
   "cell_type": "markdown",
   "metadata": {},
   "source": [
    "___\n",
    "## Classificando as Mensagens\n",
    "\n",
    "Agora você deve abrir o arquivo Excel com as mensagens capturadas e classificar na Coluna B se a mensagem é relevante ou não.<br /> \n",
    "Não se esqueça de colocar um nome para a coluna na célula **B1**.<br /><br />\n",
    "Fazer o mesmo na planilha de Controle.\n",
    "\n",
    "___\n",
    "## Montando o Classificador Naive-Bayes\n",
    "\n",
    "Com a base de treinamento montada, comece a desenvolver o classificador. Escreva o seu código abaixo:\n",
    "\n",
    "Opcionalmente: \n",
    "* Limpar as mensagens removendo os caracteres: enter, :, \", ', (, ), etc. Não remover emojis.<br />\n",
    "* Corrigir separação de espaços entre palavras e/ou emojis.\n",
    "* Propor outras limpezas/transformações que não afetem a qualidade da informação.\n",
    "\n"
   ]
  },
  {
   "cell_type": "markdown",
   "metadata": {},
   "source": [
    "## Importando a planilha"
   ]
  },
  {
   "cell_type": "code",
   "execution_count": 7,
   "metadata": {
    "collapsed": true
   },
   "outputs": [],
   "source": [
    "file = r'Razer.xlsx'\n",
    "df = pd.read_excel(file)"
   ]
  },
  {
   "cell_type": "markdown",
   "metadata": {},
   "source": [
    "## Transformando o DataFrame em dois (relevante=0 , irrelevante=1)"
   ]
  },
  {
   "cell_type": "code",
   "execution_count": 48,
   "metadata": {
    "collapsed": true
   },
   "outputs": [],
   "source": [
    "CR = df.loc[df['definicao'] == 0]\n",
    "CI = df.loc[df['definicao'] == 1]"
   ]
  },
  {
   "cell_type": "markdown",
   "metadata": {},
   "source": [
    "## Criando listas com os Tweets"
   ]
  },
  {
   "cell_type": "code",
   "execution_count": 49,
   "metadata": {
    "collapsed": true
   },
   "outputs": [],
   "source": [
    "LR = []\n",
    "LI = []\n",
    "PT = []\n",
    "for i in CR:\n",
    "    LR.append(i)\n",
    "for i in CI:\n",
    "    LI.append(i)\n",
    "for u in df['treinamento']:\n",
    "    PT.append(u)\n"
   ]
  },
  {
   "cell_type": "markdown",
   "metadata": {},
   "source": [
    "## Função pra limpar as listas"
   ]
  },
  {
   "cell_type": "code",
   "execution_count": 10,
   "metadata": {
    "collapsed": true
   },
   "outputs": [],
   "source": [
    "def limpinho(LR):\n",
    "    i=0\n",
    "    while (i < len (LR)):\n",
    "        LR[i]=LR[i].replace(\"_\",\" \")\n",
    "        LR[i]=LR[i].replace(\"'\",\" \")\n",
    "        LR[i]=LR[i].replace(\"?\",\" \")\n",
    "        LR[i]=LR[i].replace(\"$\",\" \")\n",
    "        LR[i]=LR[i].replace(\"*\",\" \")\n",
    "        LR[i]=LR[i].replace(\"%\",\" \")\n",
    "        LR[i]=LR[i].replace(\"-\",\" \")\n",
    "        LR[i]=LR[i].replace(\"<\",\" \")\n",
    "        LR[i]=LR[i].replace(\">\",\" \")\n",
    "        LR[i]=LR[i].replace(\"'\",\" \")\n",
    "        LR[i]=LR[i].replace('\"',\" \")\n",
    "        LR[i]=LR[i].replace(\"!\",\" \")\n",
    "        LR[i]=LR[i].replace(\".\",\" \")\n",
    "        LR[i]=LR[i].replace(\",\",\" \")\n",
    "        LR[i]=LR[i].replace(\"|\",\" \")\n",
    "        LR[i]=LR[i].replace(\":\",\" \")\n",
    "        LR[i]=LR[i].replace(\"&\",\" \")\n",
    "        LR[i]=LR[i].replace(\"(\",\" \")\n",
    "        LR[i]=LR[i].replace(\")\",\" \")\n",
    "        LR[i]=LR[i].replace(\"+\",\" \")\n",
    "        LR[i]=LR[i].replace(\"#\",\" \")\n",
    "        LR[i]=LR[i].replace(\"^\",\" \")\n",
    "        i+=1\n",
    "    return LR"
   ]
  },
  {
   "cell_type": "markdown",
   "metadata": {
    "collapsed": true
   },
   "source": [
    "## Limpando"
   ]
  },
  {
   "cell_type": "code",
   "execution_count": 11,
   "metadata": {
    "collapsed": true
   },
   "outputs": [],
   "source": [
    "LPT=limpinho(PT)\n",
    "LR=limpinho(LR)\n",
    "LI=limpinho(LI)"
   ]
  },
  {
   "cell_type": "markdown",
   "metadata": {},
   "source": [
    "## Função para seraparar os Tweets em palavras"
   ]
  },
  {
   "cell_type": "code",
   "execution_count": 12,
   "metadata": {
    "collapsed": true
   },
   "outputs": [],
   "source": [
    "def Palavrinhas(SPT,LPT,PPT):\n",
    "    SPT=[]\n",
    "    for w in LPT:\n",
    "        SPT.append(set(w.split()))\n",
    "    PPT=[]\n",
    "    for i in SPT:\n",
    "        for y in i:\n",
    "            PPT.append(y)\n",
    "    return PPT,SPT"
   ]
  },
  {
   "cell_type": "markdown",
   "metadata": {},
   "source": [
    "## Separando"
   ]
  },
  {
   "cell_type": "code",
   "execution_count": 13,
   "metadata": {
    "collapsed": true
   },
   "outputs": [],
   "source": [
    "SR=[]\n",
    "SI=[]\n",
    "SPT=[]\n",
    "PR=[]\n",
    "PI=[]\n",
    "PPT=[]\n",
    "PR=Palavrinhas(SR,LR,PR)\n",
    "PI=Palavrinhas(SI,LI,PI)\n",
    "PPT=Palavrinhas(SPT,LPT,PPT)"
   ]
  },
  {
   "cell_type": "markdown",
   "metadata": {},
   "source": [
    "## Função para criar um dicionario e contar a quantidade de palavras"
   ]
  },
  {
   "cell_type": "code",
   "execution_count": 14,
   "metadata": {
    "collapsed": true
   },
   "outputs": [],
   "source": [
    "def DicionarioContador(PR,DICR):\n",
    "    for j in range(len(PR)-1):\n",
    "        cont1=j\n",
    "        cont2=0\n",
    "        for cont1 in range(len(PR)-1):\n",
    "            if PR[j] == PR[cont1+1]:\n",
    "                cont2+=1\n",
    "        DICR[PR[j]]=mpf(cont2)\n",
    "    return DICR"
   ]
  },
  {
   "cell_type": "markdown",
   "metadata": {},
   "source": [
    "## Criando e contando"
   ]
  },
  {
   "cell_type": "code",
   "execution_count": 15,
   "metadata": {
    "collapsed": true
   },
   "outputs": [],
   "source": [
    "DICR={}\n",
    "DICI={}\n",
    "DICPT={}\n",
    "DICR=DicionarioContador(PR[0],DICR)\n",
    "DICI=DicionarioContador(PI[0],DICI)\n",
    "DICPT=DicionarioContador(PPT[0],DICPT)\n"
   ]
  },
  {
   "cell_type": "markdown",
   "metadata": {},
   "source": [
    "## Funções de Probabilidade"
   ]
  },
  {
   "cell_type": "code",
   "execution_count": 16,
   "metadata": {
    "collapsed": true
   },
   "outputs": [],
   "source": [
    "def Probabilizando(NP,X):\n",
    "    for g in NP:\n",
    "        h=(NP[g]+1)/(len(X)+len(DICPT))\n",
    "        NP[g]=h\n",
    "    return NP\n",
    "\n",
    "def Probabilidade(DICR,PR):\n",
    "    t=mpf(len(DICR))\n",
    "    k=mpf(len(PR))\n",
    "    h=t/k\n",
    "    return h\n"
   ]
  },
  {
   "cell_type": "markdown",
   "metadata": {},
   "source": [
    "## Achando a probabilidade das palavras serem relevantes ou irrelevantes"
   ]
  },
  {
   "cell_type": "code",
   "execution_count": 17,
   "metadata": {
    "collapsed": true
   },
   "outputs": [],
   "source": [
    "DICPT=Probabilizando(DICPT,PPT[0])\n",
    "DICR=Probabilizando(DICR,PI[0])\n",
    "DICI=Probabilizando(DICI,PR[0])"
   ]
  },
  {
   "cell_type": "code",
   "execution_count": 18,
   "metadata": {
    "collapsed": true
   },
   "outputs": [],
   "source": [
    "TOT=df['treinamento']\n",
    "ProbR=Probabilidade(CR,TOT)\n",
    "ProbI=Probabilidade(CI,TOT)"
   ]
  },
  {
   "cell_type": "markdown",
   "metadata": {
    "collapsed": true
   },
   "source": [
    "## Tabela com os totais"
   ]
  },
  {
   "cell_type": "code",
   "execution_count": 19,
   "metadata": {},
   "outputs": [
    {
     "name": "stdout",
     "output_type": "stream",
     "text": [
      "Total de palavras é:4259\n",
      "Total de palavras Irrelevantes é:2290\n",
      "Total de palavras Relevantes é:1969\n",
      "Total de palavras sem repetição é:1195\n",
      "Total de palavras Irrelevantes sem repetição é:832\n",
      "Total de palavras Relevantes sem repetição é:502\n"
     ]
    }
   ],
   "source": [
    "print(\"Total de palavras é:{0}\".format(len(PPT[0])))\n",
    "print(\"Total de palavras Irrelevantes é:{0}\".format(len(PR[0])))\n",
    "print(\"Total de palavras Relevantes é:{0}\".format(len(PI[0])))\n",
    "print(\"Total de palavras sem repetição é:{0}\".format(len(DICPT)))\n",
    "print(\"Total de palavras Irrelevantes sem repetição é:{0}\".format(len(DICR)))\n",
    "print(\"Total de palavras Relevantes sem repetição é:{0}\".format(len(DICI)))"
   ]
  },
  {
   "cell_type": "markdown",
   "metadata": {},
   "source": [
    "## Verificando a performance\n",
    "\n",
    "Agora você deve testar o seu Classificador com a base de Testes.<br /><br /> \n",
    "\n",
    "Você deve extrair as seguintes medidas:\n",
    "* Porcentagem de positivos falsos (marcados como relevante mas não são relevantes)\n",
    "* Porcentagem de positivos verdadeiros (marcado como relevante e são relevantes)\n",
    "* Porcentagem de negativos verdadeiros (marcado como não relevante e não são relevantes)\n",
    "* Porcentagem de negativos falsos (marcado como não relevante e são relevantes)\n",
    "\n",
    "Opcionalmente:\n",
    "* Criar categorias intermediárias de relevância baseado na diferença de probabilidades. Exemplo: muito relevante, relevante, neutro, irrelevante e muito irrelevante. "
   ]
  },
  {
   "cell_type": "code",
   "execution_count": 20,
   "metadata": {
    "collapsed": true
   },
   "outputs": [],
   "source": [
    "file = r'Razer.xlsx'\n",
    "df2 = pd.read_excel(file,sheetname=\"Teste\")"
   ]
  },
  {
   "cell_type": "markdown",
   "metadata": {},
   "source": [
    "## Criando uma lista com Tweets Teste"
   ]
  },
  {
   "cell_type": "code",
   "execution_count": 21,
   "metadata": {
    "collapsed": true
   },
   "outputs": [],
   "source": [
    "TET=[]\n",
    "for u in df2['Teste']:\n",
    "    TET.append(u)\n",
    "LTET=limpinho(TET)\n"
   ]
  },
  {
   "cell_type": "markdown",
   "metadata": {},
   "source": [
    "## Separando os Tweets em palavras"
   ]
  },
  {
   "cell_type": "code",
   "execution_count": 22,
   "metadata": {
    "collapsed": true
   },
   "outputs": [],
   "source": [
    "STET=[]\n",
    "PTET=[]\n",
    "PTET=Palavrinhas(STET,LTET,PTET)\n",
    "DICTET={}"
   ]
  },
  {
   "cell_type": "markdown",
   "metadata": {},
   "source": [
    "## Função Bayes"
   ]
  },
  {
   "cell_type": "code",
   "execution_count": 23,
   "metadata": {
    "collapsed": true
   },
   "outputs": [],
   "source": [
    "def Bayes(ProbR,DICR,X):\n",
    "    listaV=[]\n",
    "    for i in PTET[1]:\n",
    "        j=mpf(len(X))\n",
    "        v=mpf(len(DICPT))\n",
    "        cont2=ProbR\n",
    "        for u in i:\n",
    "            if u in DICR:\n",
    "\n",
    "                cont2= cont2*DICR[u]\n",
    "\n",
    "            else:\n",
    "                cont2= cont2*(1/(j+v))\n",
    "\n",
    "        listaV.append(cont2)\n",
    "    return listaV"
   ]
  },
  {
   "cell_type": "markdown",
   "metadata": {},
   "source": [
    "## Aplicando Função Bayes"
   ]
  },
  {
   "cell_type": "code",
   "execution_count": 24,
   "metadata": {
    "collapsed": true
   },
   "outputs": [],
   "source": [
    "listaR=Bayes(ProbR,DICR,PR[0])\n",
    "listaI=Bayes(ProbI,DICI,PI[0])\n"
   ]
  },
  {
   "cell_type": "markdown",
   "metadata": {},
   "source": [
    "## Lista de Resultado (relevante ou irrelevante)"
   ]
  },
  {
   "cell_type": "code",
   "execution_count": 25,
   "metadata": {
    "collapsed": true
   },
   "outputs": [],
   "source": [
    "nova=[]\n",
    "for i in range(len(listaR)):\n",
    "    if listaR[i]>listaI[i]:\n",
    "        nova.append(0)\n",
    "    elif listaR[i]<listaI[i]:\n",
    "        nova.append(1)\n",
    "    else:\n",
    "        nova.append(0)"
   ]
  },
  {
   "cell_type": "markdown",
   "metadata": {},
   "source": [
    "## Inserindo Resultados no DataFrame"
   ]
  },
  {
   "cell_type": "code",
   "execution_count": 26,
   "metadata": {
    "collapsed": true
   },
   "outputs": [],
   "source": [
    "df2[\"resultado\"]=nova"
   ]
  },
  {
   "cell_type": "markdown",
   "metadata": {},
   "source": [
    "## Fazendo contagem do resultado"
   ]
  },
  {
   "cell_type": "code",
   "execution_count": 27,
   "metadata": {
    "collapsed": true
   },
   "outputs": [],
   "source": [
    "certo=0\n",
    "errado=0\n",
    "for i in range(df2[\"resultado\"].count()):\n",
    "    if df2['Unnamed: 1'][i] == df2['resultado'][i] :\n",
    "        certo+=1\n",
    "        \n",
    "    else:\n",
    "        errado+=1\n",
    "    "
   ]
  },
  {
   "cell_type": "code",
   "execution_count": 29,
   "metadata": {
    "scrolled": true
   },
   "outputs": [
    {
     "name": "stdout",
     "output_type": "stream",
     "text": [
      "184\n",
      "16\n"
     ]
    }
   ],
   "source": [
    "print (certo)\n",
    "print (errado)"
   ]
  },
  {
   "cell_type": "code",
   "execution_count": 43,
   "metadata": {},
   "outputs": [],
   "source": [
    "\n",
    "Res = []\n",
    "\n",
    "for i in range(df2[\"Teste\"].count()):\n",
    "    \n",
    "    if df2[\"Unnamed: 1\"][i]==1 and df2[\"resultado\"][i]==0:\n",
    "        Res.append('negativos falsos')\n",
    "\n",
    "    if df2[\"Unnamed: 1\"][i]==0 and df2[\"resultado\"][i]==0:\n",
    "        Res.append('positivos verdadeiros')\n",
    "        \n",
    "    if df2[\"Unnamed: 1\"][i]==1 and df2[\"resultado\"][i]==1:\n",
    "        Res.append('negativos verdadeiros')\n",
    "        \n",
    "    if df2[\"Unnamed: 1\"][i]==0 and df2[\"resultado\"][i]==1:\n",
    "        Res.append('positivos falsos')        \n",
    "\n",
    "df2[\"Novas_Medidas\"] = Res"
   ]
  },
  {
   "cell_type": "code",
   "execution_count": 44,
   "metadata": {},
   "outputs": [
    {
     "name": "stdout",
     "output_type": "stream",
     "text": [
      "Quantidade dos respectivos Positivos e Negativos (sem porcentagem):\n"
     ]
    },
    {
     "data": {
      "text/plain": [
       "positivos verdadeiros    110\n",
       "negativos verdadeiros     74\n",
       "negativos falsos          14\n",
       "positivos falsos           2\n",
       "Name: Novas_Medidas, dtype: int64"
      ]
     },
     "execution_count": 44,
     "metadata": {},
     "output_type": "execute_result"
    }
   ],
   "source": [
    "print('Quantidade dos respectivos Positivos e Negativos (sem porcentagem):')\n",
    "df2.Novas_Medidas.value_counts()"
   ]
  },
  {
   "cell_type": "code",
   "execution_count": 45,
   "metadata": {},
   "outputs": [
    {
     "data": {
      "image/png": "[encoded data removed]",
      "text/plain": [
       "<matplotlib.figure.Figure at 0x238b16db6a0>"
      ]
     },
     "metadata": {},
     "output_type": "display_data"
    }
   ],
   "source": [
    "import matplotlib.pyplot as plt\n",
    "r = df2.Novas_Medidas.value_counts()/len(Res)*100\n",
    "t = r.reindex(['positivos falsos','positivos verdadeiros','negativos verdadeiros','negativos falsos'])\n",
    "plot = t.plot(kind='pie',title='Novas Medidas exigidas pelo professor (%)',autopct='%.1f',figsize=(7, 7))\n",
    "plt.show()"
   ]
  },
  {
   "cell_type": "markdown",
   "metadata": {
    "collapsed": true
   },
   "source": [
    "___\n",
    "## Concluindo\n",
    "\n",
    "Escreva aqui a sua conclusão.<br /> \n",
    "Faça um comparativo qualitativo sobre as medidas obtidas.<br />\n",
    "Explique como são tratadas as mensagens com dupla negação e sarcasmo.<br />\n",
    "Proponha um plano de expansão. Por que eles devem continuar financiando o seu projeto?<br />\n",
    "\n",
    "Opcionalmente: \n",
    "* Discorrer por que não posso alimentar minha base de Treinamento automaticamente usando o próprio classificador, aplicado a novos tweets.\n",
    "* Propor diferentes cenários de uso para o classificador Naive-Bayes. Cenários sem intersecção com este projeto.\n",
    "* Sugerir e explicar melhorias reais no classificador com indicações concretas de como implementar (não é preciso codificar, mas indicar como fazer e material de pesquisa sobre o assunto).\n"
   ]
  },
  {
   "cell_type": "markdown",
   "metadata": {
    "collapsed": true
   },
   "source": [
    "De acordo com os dados obtidos o programa obteve uma alta taxa de eficiência. O fato de que existem mais positivos falsos, pode ser explicado por conta de citações do nome da marca Razer mas que não se referem a produtos nem a marca, como por exemplo nomes de usuários. O baixo número de negativos falsos pode ser explicado por que a grande maioria do conteúdo que não é relevante segue um padrão, e por isso ficam mais fáceis de serem detectados. O alto número de positivos verdadeiros é devido ao fato de que a maior parte das citações são elogios com relação aos produtos Razer.\n",
    "\n",
    "Um dos problemas que é possível observar, em relação ao programa, é o fato de que certas expressões utilizadas pelos usuários podem apresentar conotações que o programa não interpretaria direito, como por exemplo o sarcasmo, que só é perceptível para por conta da maneira com a qual a frase é escrita ou pela pontuação, porém para que o programa tentasse identificar esse tipo de comportamento seria necessário um maior trabalho com relação ao código para que fosse possível que ele identificasse esses casos de sarcasmo, e ainda assim não seria preciso o suficiente. O programa provavelmente iria demonstrar como avaliações positivas algumas situações onde há sarcasmo. Outro exemplo, é a questão da dupla negação aonde o usuário poderia ter a escrito de maneira proposital ou sem a intenção, esse tipo de comportamento se demonstra muito questionável para que o programa pudesse avaliar com uma precisão adequada a situação. Nesse caso o programa, por exemplo, poderia julgar como negativas comentários que fossem positivas ou vice-versa\n",
    "\n",
    "Os resultados obtidos se demonstraram muito satisfatórios o suficiente para que exista um financiamento do mesmo, e além do mais o programa mesmo possuindo essa taxa de acertos alta, ainda necessita de melhorias para aumentar ainda mais a sua precisão \n",
    "\n",
    " Ao tentar alimentar a base de treinamento com dados gerados automaticamente pelo classificador alguma palavra pode acabar influenciando na seleção dos tweets que possuem relevância sendo assim a capacidade de discernimento do programa seria muito afetada deixando a sua precisão com relação aos tweets que são realmente relevantes acabaria diminuindo \t\n",
    " \n",
    " O Teorema de Bayes curiosamente também é utilizado como medida de segurança em algumas empresas aonde se é aplicado o classificador para ver a probabilidade de escolhas mais seguras, com menos incidentes ou com mais chances de dar certo sem eventuais erros. \n",
    " \n",
    " Para tornar o programa mais preciso podem ser feitas alterações no programa como por exemplo uma base de dados maior para que a precisão com relação a relevância dos tweets possa melhorar, sendo assim classificando de maneira melhor as palavras.\t"
   ]
  },
  {
   "cell_type": "code",
   "execution_count": null,
   "metadata": {
    "collapsed": true
   },
   "outputs": [],
   "source": []
  }
 ],
 "metadata": {
  "kernelspec": {
   "display_name": "Python 3",
   "language": "python",
   "name": "python3"
  },
  "language_info": {
   "codemirror_mode": {
    "name": "ipython",
    "version": 3
   },
   "file_extension": ".py",
   "mimetype": "text/x-python",
   "name": "python",
   "nbconvert_exporter": "python",
   "pygments_lexer": "ipython3",
   "version": "3.6.1"
  }
 },
 "nbformat": 4,
 "nbformat_minor": 1
}
