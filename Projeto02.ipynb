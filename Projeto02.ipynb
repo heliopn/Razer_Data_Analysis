{
 "cells": [
  {
   "cell_type": "markdown",
   "metadata": {},
   "source": [
    "# Projeto 2 - Classificador Automático de Sentimento\n",
    "\n",
    "Você foi contratado por uma empresa parar analisar como os clientes estão reagindo a um determinado produto no Twitter. A empresa deseja que você crie um programa que irá analisar as mensagens disponíveis e classificará como \"relevante\" ou \"irrelevante\". Com isso ela deseja que mensagens negativas, que denigrem o nome do produto, ou que mereçam destaque, disparem um foco de atenção da área de marketing.<br /><br />\n",
    "Como aluno de Ciência dos Dados, você lembrou do Teorema de Bayes, mais especificamente do Classificador Naive-Bayes, que é largamente utilizado em filtros anti-spam de e-mails. O classificador permite calcular qual a probabilidade de uma mensagem ser relevante dadas as palavras em seu conteúdo.<br /><br />\n",
    "Para realizar o MVP (*minimum viable product*) do projeto, você precisa implementar uma versão do classificador que \"aprende\" o que é relevante com uma base de treinamento e compara a performance dos resultados com uma base de testes.<br /><br />\n",
    "Após validado, o seu protótipo poderá também capturar e classificar automaticamente as mensagens da plataforma.\n",
    "\n",
    "## Informações do Projeto\n",
    "\n",
    "Prazo: 13/Set até às 23:59.<br />\n",
    "Grupo: 1 ou 2 pessoas.<br /><br />\n",
    "Entregáveis via GitHub: \n",
    "* Arquivo notebook com o código do classificador, seguindo as orientações abaixo.\n",
    "* Arquivo Excel com as bases de treinamento e teste totalmente classificado.\n",
    "\n",
    "**NÃO disponibilizar o arquivo com os *access keys/tokens* do Twitter.**\n",
    "\n",
    "\n",
    "### Check 3: \n",
    "\n",
    "Até o dia 06 de Setembro às 23:59, o notebook e o xlsx devem estar no Github com as seguintes evidências: \n",
    "    * Conta no twitter criada.\n",
    "    * Produto escolhido.\n",
    "    * Arquivo Excel contendo a base de treinamento e teste já classificado.\n",
    "\n",
    "Sugestão de leitura:<br />\n",
    "http://docs.tweepy.org/en/v3.5.0/index.html<br />\n",
    "https://monkeylearn.com/blog/practical-explanation-naive-bayes-classifier/"
   ]
  },
  {
   "cell_type": "markdown",
   "metadata": {},
   "source": [
    "___\n",
    "\n",
    "## Preparando o ambiente\n",
    "\n",
    "Instalando a biblioteca *tweepy* para realizar a conexão com o Twitter:"
   ]
  },
  {
   "cell_type": "code",
   "execution_count": 1,
   "metadata": {
    "collapsed": true
   },
   "outputs": [],
   "source": [
    "%%capture\n",
    "\n",
    "#Instalando o tweepy\n",
    "!pip install tweepy"
   ]
  },
  {
   "cell_type": "markdown",
   "metadata": {},
   "source": [
    "Importando as Bibliotecas que serão utilizadas. Esteja livre para adicionar outras."
   ]
  },
  {
   "cell_type": "code",
   "execution_count": 20,
   "metadata": {
    "collapsed": true
   },
   "outputs": [],
   "source": [
    "import tweepy\n",
    "import math\n",
    "import os.path\n",
    "import pandas as pd\n",
    "import json\n",
    "from string import *\n",
    "from random import shuffle"
   ]
  },
  {
   "cell_type": "markdown",
   "metadata": {},
   "source": [
    "___\n",
    "## Autenticando no  Twitter\n",
    "\n",
    "Para realizar a captura dos dados é necessário ter uma conta cadastrada no twitter:\n",
    "\n",
    "* Conta: ***@jhp_nt***\n",
    "\n",
    "\n",
    "1. Caso ainda não tenha uma: https://twitter.com/signup\n",
    "1. Depois é necessário registrar um app para usar a biblioteca: https://apps.twitter.com/\n",
    "1. Dentro do registro do App, na aba Keys and Access Tokens, anotar os seguintes campos:\n",
    "    1. Consumer Key (API Key)\n",
    "    1. Consumer Secret (API Secret)\n",
    "1. Mais abaixo, gere um Token e anote também:\n",
    "    1. Access Token\n",
    "    1. Access Token Secret\n",
    "    \n",
    "1. Preencha os valores no arquivo \"auth.pass\"\n",
    "\n",
    "**ATENÇÃO**: Nunca divulgue os dados desse arquivo online (GitHub, etc). Ele contém as chaves necessárias para realizar as operações no twitter de forma automática e portanto é equivalente a ser \"hackeado\". De posse desses dados, pessoas mal intencionadas podem fazer todas as operações manuais (tweetar, seguir, bloquear/desbloquear, listar os seguidores, etc). Para efeito do projeto, esse arquivo não precisa ser entregue!!!"
   ]
  },
  {
   "cell_type": "code",
   "execution_count": 3,
   "metadata": {},
   "outputs": [],
   "source": [
    "#Dados de autenticação do twitter:\n",
    "\n",
    "#Coloque aqui o identificador da conta no twitter: @jhp_nt\n",
    "\n",
    "#leitura do arquivo no formato JSON\n",
    "with open(r'C:\\Users\\hpaiv\\Desktop\\Insper\\Pass\\auth.pass') as fp:    \n",
    "    data = json.load(fp)\n",
    "\n",
    "#Configurando a biblioteca. Não modificar\n",
    "auth = tweepy.OAuthHandler(data['consumer_key'], data['consumer_secret'])\n",
    "auth.set_access_token(data['access_token'], data['access_token_secret'])"
   ]
  },
  {
   "cell_type": "markdown",
   "metadata": {},
   "source": [
    "___\n",
    "## Coletando Dados\n",
    "\n",
    "Agora vamos coletar os dados. Tenha em mente que dependendo do produto escolhido, não haverá uma quantidade significativa de mensagens, ou ainda poder haver muitos retweets.<br /><br /> \n",
    "Configurando:"
   ]
  },
  {
   "cell_type": "code",
   "execution_count": 4,
   "metadata": {
    "collapsed": true
   },
   "outputs": [],
   "source": [
    "#Produto escolhido:\n",
    "produto = 'Razer'\n",
    "\n",
    "#Quantidade mínima de mensagens capturadas:\n",
    "n = 500\n",
    "#Quantidade mínima de mensagens para a base de treinamento:\n",
    "t = 300\n",
    "\n",
    "#Filtro de língua, escolha uma na tabela ISO 639-1.\n",
    "lang = 'pt'"
   ]
  },
  {
   "cell_type": "markdown",
   "metadata": {},
   "source": [
    "Capturando os dados do twitter:"
   ]
  },
  {
   "cell_type": "code",
   "execution_count": 5,
   "metadata": {
    "collapsed": true
   },
   "outputs": [],
   "source": [
    "#Cria um objeto para a captura\n",
    "api = tweepy.API(auth)\n",
    "\n",
    "#Inicia a captura, para mais detalhes: ver a documentação do tweepy\n",
    "i = 1\n",
    "msgs = []\n",
    "for msg in tweepy.Cursor(api.search, q=produto, lang=lang).items():    \n",
    "    msgs.append(msg.text.lower())\n",
    "    i += 1\n",
    "    if i > n:\n",
    "        break\n",
    "\n",
    "#Embaralhando as mensagens para reduzir um possível viés\n",
    "shuffle(msgs)"
   ]
  },
  {
   "cell_type": "markdown",
   "metadata": {},
   "source": [
    "Salvando os dados em uma planilha Excel:"
   ]
  },
  {
   "cell_type": "code",
   "execution_count": 6,
   "metadata": {
    "collapsed": true
   },
   "outputs": [],
   "source": [
    "#Verifica se o arquivo não existe para não substituir um conjunto pronto\n",
    "if not os.path.isfile('./{0}.xlsx'.format(produto)):\n",
    "    \n",
    "    #Abre o arquivo para escrita\n",
    "    writer = pd.ExcelWriter('{0}.xlsx'.format(produto))\n",
    "\n",
    "    #divide o conjunto de mensagens em duas planilhas\n",
    "    dft = pd.DataFrame({'Treinamento' : pd.Series(msgs[:t])})\n",
    "    dft.to_excel(excel_writer = writer, sheet_name = 'Treinamento', index = False)\n",
    "\n",
    "    dfc = pd.DataFrame({'Teste' : pd.Series(msgs[t:])})\n",
    "    dfc.to_excel(excel_writer = writer, sheet_name = 'Teste', index = False)\n",
    "\n",
    "    #fecha o arquivo\n",
    "    writer.save()"
   ]
  },
  {
   "cell_type": "markdown",
   "metadata": {},
   "source": [
    "___\n",
    "## Classificando as Mensagens\n",
    "\n",
    "Agora você deve abrir o arquivo Excel com as mensagens capturadas e classificar na Coluna B se a mensagem é relevante ou não.<br /> \n",
    "Não se esqueça de colocar um nome para a coluna na célula **B1**.<br /><br />\n",
    "Fazer o mesmo na planilha de Controle.\n",
    "\n",
    "___\n",
    "## Montando o Classificador Naive-Bayes\n",
    "\n",
    "Com a base de treinamento montada, comece a desenvolver o classificador. Escreva o seu código abaixo:\n",
    "\n",
    "Opcionalmente: \n",
    "* Limpar as mensagens removendo os caracteres: enter, :, \", ', (, ), etc. Não remover emojis.<br />\n",
    "* Corrigir separação de espaços entre palavras e/ou emojis.\n",
    "* Propor outras limpezas/transformações que não afetem a qualidade da informação.\n",
    "\n"
   ]
  },
  {
   "cell_type": "markdown",
   "metadata": {},
   "source": [
    "## Importando a planilha"
   ]
  },
  {
   "cell_type": "code",
   "execution_count": 7,
   "metadata": {},
   "outputs": [
    {
     "data": {
      "text/plain": [
       "[u'treinamento', u'definicao']"
      ]
     },
     "execution_count": 7,
     "metadata": {},
     "output_type": "execute_result"
    }
   ],
   "source": [
    "file = r'Razer.xlsx'\n",
    "df = pd.read_excel(file)\n",
    "\n",
    "\n",
    "list(df.columns)"
   ]
  },
  {
   "cell_type": "markdown",
   "metadata": {},
   "source": [
    "## Transformando a Coluna \"treinamento\" em uma lista"
   ]
  },
  {
   "cell_type": "code",
   "execution_count": null,
   "metadata": {},
   "outputs": [],
   "source": []
  },
  {
   "cell_type": "code",
   "execution_count": 18,
   "metadata": {},
   "outputs": [],
   "source": [
    "CB = df.loc[df['definicao'] == 0, 'treinamento']\n",
    "CR = df.loc[df['definicao'] == 1, 'treinamento']"
   ]
  },
  {
   "cell_type": "code",
   "execution_count": null,
   "metadata": {},
   "outputs": [],
   "source": []
  },
  {
   "cell_type": "code",
   "execution_count": 44,
   "metadata": {},
   "outputs": [],
   "source": [
    "\n",
    "manter = df['definicao'] == 0\n",
    "#print manter\n",
    "# # print type(manter)\n",
    "\n",
    "result = df.loc[df['definicao'] == 0, 'treinamento']\n",
    "# # print result\n",
    "# # print type(result)\n",
    "\n",
    "\n",
    "ID = df.loc[df['definicao'] == 0, 'treinamento'].tolist()\n",
    "# # print \"\\ndf.loc[df['definicao'] == 0, 'treinamento'].tolist()\"\n",
    "#print ID\n",
    "# # print type(ID)"
   ]
  },
  {
   "cell_type": "code",
   "execution_count": 43,
   "metadata": {},
   "outputs": [],
   "source": [
    "for i in CB:\n",
    "     i.strip(\" /?<>.!$%*\\|;:&u'\")\n",
    "for i in CR:\n",
    "     i.strip(\" /?<>.!$%*\\|;:&u'\")"
   ]
  },
  {
   "cell_type": "code",
   "execution_count": 45,
   "metadata": {},
   "outputs": [
    {
     "data": {
      "text/plain": [
       "[u'gostei de um v\\xeddeo @youtube https://t.co/hudnmal5ct teclado mais confort\\xe1vel da razer',\n",
       " u'aprovando varios produtos razer &lt;3 \\U0001f60d\\U0001f63b',\n",
       " u'gostei de um v\\xeddeo @youtube https://t.co/yhyvxmmz6b - textura razer chroma leve para skywars (skyminigames)',\n",
       " u'planos pra madrugada: rejogar life is strange at\\xe9 meu cu cair ou minhas orelhas explodirem no meu fone da razer, s\\xf3 pra ouvir a soundtrack',\n",
       " u'ja deixei o adesivo da razer separado pq n\\xe9, o carro do japa tem q ter o adesivo da razer',\n",
       " u'skywars jogando com a textura da razer choma! \\u2039 davigamer \\u203a: https://t.co/iy68v6ogqt via @youtube',\n",
       " u'pessoas pagando mais de 600 reais em produtos razer kkkkkkkkkkk',\n",
       " u'@vibeskcc @razer eu s\\xf3 jogo pq ganhei um pc bom mesmo pq se n\\xe3o eu n\\xe3o teria comprado, antes eu s\\xf3 tinha notebook,\\u2026 https://t.co/pdlpuxe0mv',\n",
       " u'@nutellaodzn vai combinar com meu full razer pelomenos ;-',\n",
       " u'aiai nunca gastem seu dinheiro com produtos razer..',\n",
       " u'@pqptonia_ eles tem q atualizar o synapse, acho q essas paradas novas da razer ta bugando uma pa de coisa',\n",
       " u'eu ainda vou ser patrocinado pela adidas dominos monster e razer aguardem &amp; confiem',\n",
       " u\"estou aceitando um razer mano'war de presente (sem fio preferencialmente)\",\n",
       " u'software mais cagado q o da razer pro kraken v2 n tem, uma hora as parada funciona, outras nem funcionam, e outras param de funcionar ._,',\n",
       " u'@tiagodvl @razer o computador n\\xe3o \\xe9 no quarto de dormir :333',\n",
       " u'antes a razer curte meu tweet \\ne agora a hyper x \\n\\nt\\xf4 me sentindo pro player mesmo agora b)',\n",
       " u'@sulaferreir foninho de celular&gt;&gt;&gt;&gt;&gt;&gt;&gt;&gt;&gt;&gt;&gt;&gt;fone razer gamer que brilha no escuro, e escura no claro',\n",
       " u'@luqizilla @razer eu digito tipo, 100 palavras. mas e da\\xed n\\xe9 eu tinha dinheiro e \\xe9 isso a\\xed uhul',\n",
       " u'@brenaaaozg0d 4k eu fico full razer e ainda com pc bom',\n",
       " u'razer filha da ptua',\n",
       " u'@_brunott_ ate pq fone de celular \\xe9 barato ja da razer custa meu cu',\n",
       " u'@kulustur_pvp sorteos de pc o mouse razer que duren 5 min 7w7',\n",
       " u'hj eu e os pia fomos no centro e ficamos babando num teclado mec\\xe2nico da razer uhuhshuhshs',\n",
       " u'caralho @bdayzzzz teu irm\\xe3o tem um teclado blackwidow chroma mais mousepad large da razer que \\xe9 estilo. ele \\xe9 fan boy?',\n",
       " u'eu odeio pessoas que pensam que a razer e a \\xfanica marca de gaming.',\n",
       " u'@lordgreedy razer mamba!',\n",
       " u'creo que razer patrocina',\n",
       " u'@artevirtualfc @razer valeu!!',\n",
       " u'rt @anddrealvesm: uou! a @nuuvem e a @razer t\\xe3o sorteando 500 c\\xf3pias de #rainbowsixsiege! olha s\\xf3: https://t.co/9od3f2cwwz',\n",
       " u'ganhei um headset razer do meu irm\\xe3o \\U0001f49a',\n",
       " u'a razer \\xe9 ruim, mas o razer synapse beu teus como se esfor\\xe7a pra ser o pior programa que j\\xe1 existiu',\n",
       " u'@larididone @razer teclado \\xe9 muito underrated!! um bom teclado mecanico faz a diferenca da vida qd tu digita 3000 palavras por dia',\n",
       " u'rt @tierragamer: mando elite de razer https://t.co/8txujvchiu',\n",
       " u'aquele kit razer que voc\\xea respeita para o seu final de semana gamer. \\ncs-go online em 30min.\\u2026 https://t.co/dachdyiu24',\n",
       " u'@neversayyesgg razer mamba',\n",
       " u'@tecnoshlol parceria com a razer? tu \\xe9 god tec',\n",
       " u'@ugamerzeal razer \\xe9 um lixo cara, abandona, vai de corsair ou logitech, razer \\xe9 lixo, vc vai ver mais teclas pararem',\n",
       " u'@juanigames1 es marca razer?',\n",
       " u'como chegar na cremosa 10/10? \\u2014 chega no ouvidinho dela e fala\\n\\n- sou full razer g... https://t.co/2ak4dck2x0',\n",
       " u'vo ter que ir no bar da razer compra outra',\n",
       " u'comprei um teclado da @razer e hollyshit que bixinho lindo vsf.',\n",
       " u'@tiagodvl @razer caralho eu adorei',\n",
       " u'@noxusion razer \\xe9 o escambau \\no do meu irm\\xe3o roda 130 e.e',\n",
       " u'nego fica se achando por ter alguma coisa da razer, razer eh lixoooooooooooooo',\n",
       " u'@haxshw tu pediu um full razer foi? opskpoaskpoaskposa',\n",
       " u'tomara que o dani passe de ano vei mkkkk quero um razer novo',\n",
       " u'@timo77lol razer pro',\n",
       " u'@hyzerpvp qual o melhor mouse da razer para se comprar ? me da umas dica ?',\n",
       " u'o bundle back2school da razer \\xe9 ideal para aquelas longas noites de estudo! \\ndescobre porqu\\xea no nosso pequeno... https://t.co/3ldqtwu2mv',\n",
       " u'@uiskyy todo riquinho full razer pena que n\\xe3o clica kk',\n",
       " u'novo rato da razer usufrui do sistema chroma. https://t.co/kmj7nail5l https://t.co/kgpwnkiwhx',\n",
       " u'@juanbatalhaaa a premia\\xe7\\xe3o para o campe\\xe3o ser\\xe1 um contrato de pro player com a @razer \\U0001f525',\n",
       " u'no meu setup s\\xf3 falta mouse/teclado da razer que \\xe9 gg',\n",
       " u'queria uma mochila da razer que nem os jogadores da pain tem, mochil\\xe3o da porra',\n",
       " u'@capitaoturbo razer to fora pego meu fone da hyprex e vou embora kskskskks',\n",
       " u'@otimistadsn @lenicreative @bigmineleo o papel de parede do meu tijol\\xe3o e da razer uasuashuas',\n",
       " u'foi morto com teclado razer, por isso sim \\xe9 verdade a not\\xedcia, eu pr\\xf3prio conhe\\xe7o o puto e j\\xe1 o matei 7 vezes https://t.co/cwxqfnrhny',\n",
       " u'@cezartf @bruuneralima economiza no aluguel da bem pra comprar um fone da razer, meter no ouvido e j\\xe1 era, n\\xe3o durm\\u2026 https://t.co/1fbunzhhlz',\n",
       " u'algu\\xe9m sabe como aumentar a precis\\xe3o do mouse sem ser mouse da razer?',\n",
       " u'@hardilhex minha mae falou que so vai me dar algum item da razer quando eu estiver trabalhando',\n",
       " u'@razer ola rezer blz? eu gostaria que voces podeser midar um teclado e um mouser?? pode ser qualquer um',\n",
       " u'agora vou tenta conserta o razer .. vai n\\xe9',\n",
       " u'@_brunott_ eu quero muito aquele headphone de gatinho da razer',\n",
       " u'@corkypvp n to conseguindo criar uma conta no razer synapse me ajuda ae?',\n",
       " u'@razer karai um teclado desse eu posso comprar um kinder ovo!!!!!!!! omgggg',\n",
       " u'nego fala de notebook caro com razer, predator, etc... eu s\\xf3 rio e penso em eurocom :p',\n",
       " u'nem comprei o razer e quero que ja chegue \\U0001f623',\n",
       " u'@rnttfernandes hannn se fosse da razer ja tinha pifado',\n",
       " u'@kelebra01 meu amigo trocou o kit razer dele todo pelo mercado livre, s\\xf3 vc ver com quem vai comprar ne... :v',\n",
       " u'@tsukyunn ?\\nos da razer roda a 60, para de ser doente',\n",
       " u'@marllonandrad siiim, v\\xe3o razer um live action sobre a filha do nisaka \\U0001f60d\\U0001f60d\\U0001f60d\\U0001f60d',\n",
       " u'@ericky_rael @razer pelo menos tem bom gosto',\n",
       " u'contras: \"fiquei triste n veio adesivo d\\xe1 razer\"',\n",
       " u'@razerbrazil caramba eu quero comprar um mouse e teclado gamer razer',\n",
       " u'aproveitando muito bem meu mousepad da razer :)',\n",
       " u'easy mobile freedom 2!!\\nmelhor que beats. melhor que jbl. melhor que razer. melhor que esses bagulhos todos que... https://t.co/qmouoxbbej',\n",
       " u'@razerbrazil @tecnoshlol razer me patrocina, eu n fa\\xe7o stream mas eu sei contar piada',\n",
       " u'@phellen_ u\\xe9 e teclado da razer faz m\\xfasica ??',\n",
       " u'desenhei mouse da razer sinta-se de passagem',\n",
       " u'@richelionel tem umas opcoes boas sem ser da razer tbm, tipo hyperx e corsair. da uma olhada depois, sao marcas mt boas tb',\n",
       " u'@coalaooo pc? da pra tu comprar um puta pc e um setup full razer',\n",
       " u'ebem pesadinho esse razer kraken v2.',\n",
       " u'disso que eu t\\xf4 precisando https://t.co/gkremh2tob',\n",
       " u'tooo puto, fui convidado pra um campeonato de cs go no dia 7, vencedor ia levar kit razer. minha m\\xe3e n\\xe3o deixo pq eu tenho que ir no niver',\n",
       " u'@pedrao237_ qual era o teclado que tu disse que tinha as mesmas pe\\xe7as da razer s\\xf3 que \\xe9 muito mais barato?',\n",
       " u'algu\\xe9m afim de comprar um razer blackwidow chroma ai?',\n",
       " u'@supp_de_ga ou razer, se vc for t\\xe3o ryka quanto eu acho que \\xe9 :v',\n",
       " u'@zanettemarques @idmluanleal @fallencs porra meu mouse e da marvo e passa de 1000, nao aguenta nada\\nvcs ai com raze\\u2026 https://t.co/fohfuyvbe0',\n",
       " u'meu fonezinho do cel ta melhor q o da razer.. krl',\n",
       " u'jogando com a textura da  razer chroma! \\u2039 sr leo \\u203a https://t.co/e0n7xrcwws via @youtube',\n",
       " u'@razerbrazil @tecnoshlol patrocina nois tamb\\xe9m razer',\n",
       " u'@razerbrazil ey conseguem resolver meu problema? synapse n\\xe3o reconhece meu headset gamer razer kraken 7.1 tem algum driver que possa baixar?',\n",
       " u'eu jurava que essa edi\\xe7\\xe3o do overwatch da razer tinha acabado ano passado mesmo lul',\n",
       " u'venho informar pra vcs q t\\xf4 sem fone e todo fudido\\n(mandei pra razer pq deu problema)',\n",
       " u'@fallencs estou com dificuldade de configurar meu fone da razer, kraken pro.. o fone n\\xe3o funciona e o som estronda muito tem como ajudar?',\n",
       " u'@larididone @razer comprou o que a tecla faz tec tec tec tec tec ?!?\\n\\xe9 irritante @_@',\n",
       " u'@zeusking1337 vai bate punheta vendo o pc da razer seu hacker viciado da porra',\n",
       " u'@fallencs @mucamuricoca tinha de ter razer na thumbnail']"
      ]
     },
     "execution_count": 45,
     "metadata": {},
     "output_type": "execute_result"
    }
   ],
   "source": [
    "ID"
   ]
  },
  {
   "cell_type": "code",
   "execution_count": 32,
   "metadata": {},
   "outputs": [
    {
     "ename": "AttributeError",
     "evalue": "'list' object has no attribute 'strip'",
     "output_type": "error",
     "traceback": [
      "\u001b[1;31m---------------------------------------------------------------------------\u001b[0m",
      "\u001b[1;31mAttributeError\u001b[0m                            Traceback (most recent call last)",
      "\u001b[1;32m<ipython-input-32-869dd5d748b1>\u001b[0m in \u001b[0;36m<module>\u001b[1;34m()\u001b[0m\n\u001b[1;32m----> 1\u001b[1;33m \u001b[0mF\u001b[0m\u001b[1;33m=\u001b[0m\u001b[0mID\u001b[0m\u001b[1;33m.\u001b[0m\u001b[0mstrip\u001b[0m\u001b[1;33m(\u001b[0m\u001b[1;34m' /?<>,.!$%*\\|;:&'\u001b[0m\u001b[1;33m)\u001b[0m\u001b[1;33m\u001b[0m\u001b[0m\n\u001b[0m",
      "\u001b[1;31mAttributeError\u001b[0m: 'list' object has no attribute 'strip'"
     ]
    }
   ],
   "source": [
    "for i in ID:    \n",
    "    h=i.replace(\"/\",\"\")\n",
    "    h=h.replace(\"\",\"\")\n",
    "    \n",
    "    \n",
    "    \n",
    "    \n",
    "    \n",
    "    \n",
    "    \n",
    "    /?<>.!$%*\\|;:&u'\n",
    "    L.append(h)"
   ]
  },
  {
   "cell_type": "markdown",
   "metadata": {},
   "source": [
    "___\n",
    "## Verificando a performance\n",
    "\n",
    "Agora você deve testar o seu Classificador com a base de Testes.<br /><br /> \n",
    "\n",
    "Você deve extrair as seguintes medidas:\n",
    "* Porcentagem de positivos falsos (marcados como relevante mas não são relevantes)\n",
    "* Porcentagem de positivos verdadeiros (marcado como relevante e são relevantes)\n",
    "* Porcentagem de negativos verdadeiros (marcado como não relevante e não são relevantes)\n",
    "* Porcentagem de negativos falsos (marcado como não relevante e são relevantes)\n",
    "\n",
    "Opcionalmente:\n",
    "* Criar categorias intermediárias de relevância baseado na diferença de probabilidades. Exemplo: muito relevante, relevante, neutro, irrelevante e muito irrelevante."
   ]
  },
  {
   "cell_type": "code",
   "execution_count": null,
   "metadata": {
    "collapsed": true,
    "scrolled": true
   },
   "outputs": [],
   "source": []
  },
  {
   "cell_type": "markdown",
   "metadata": {
    "collapsed": true
   },
   "source": [
    "___\n",
    "## Concluindo\n",
    "\n",
    "Escreva aqui a sua conclusão.<br /> \n",
    "Faça um comparativo qualitativo sobre as medidas obtidas.<br />\n",
    "Explique como são tratadas as mensagens com dupla negação e sarcasmo.<br />\n",
    "Proponha um plano de expansão. Por que eles devem continuar financiando o seu projeto?<br />\n",
    "\n",
    "Opcionalmente: \n",
    "* Discorrer por que não posso alimentar minha base de Treinamento automaticamente usando o próprio classificador, aplicado a novos tweets.\n",
    "* Propor diferentes cenários de uso para o classificador Naive-Bayes. Cenários sem intersecção com este projeto.\n",
    "* Sugerir e explicar melhorias reais no classificador com indicações concretas de como implementar (não é preciso codificar, mas indicar como fazer e material de pesquisa sobre o assunto).\n"
   ]
  },
  {
   "cell_type": "code",
   "execution_count": null,
   "metadata": {
    "collapsed": true
   },
   "outputs": [],
   "source": []
  }
 ],
 "metadata": {
  "kernelspec": {
   "display_name": "Python 2",
   "language": "python",
   "name": "python2"
  },
  "language_info": {
   "codemirror_mode": {
    "name": "ipython",
    "version": 2
   },
   "file_extension": ".py",
   "mimetype": "text/x-python",
   "name": "python",
   "nbconvert_exporter": "python",
   "pygments_lexer": "ipython2",
   "version": "2.7.13"
  }
 },
 "nbformat": 4,
 "nbformat_minor": 1
}
