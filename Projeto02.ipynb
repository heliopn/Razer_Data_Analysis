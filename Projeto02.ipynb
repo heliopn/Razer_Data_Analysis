{
 "cells": [
  {
   "cell_type": "markdown",
   "metadata": {},
   "source": [
    "# Projeto 2 - Classificador Automático de Sentimento\n",
    "\n",
    "Você foi contratado por uma empresa parar analisar como os clientes estão reagindo a um determinado produto no Twitter. A empresa deseja que você crie um programa que irá analisar as mensagens disponíveis e classificará como \"relevante\" ou \"irrelevante\". Com isso ela deseja que mensagens negativas, que denigrem o nome do produto, ou que mereçam destaque, disparem um foco de atenção da área de marketing.<br /><br />\n",
    "Como aluno de Ciência dos Dados, você lembrou do Teorema de Bayes, mais especificamente do Classificador Naive-Bayes, que é largamente utilizado em filtros anti-spam de e-mails. O classificador permite calcular qual a probabilidade de uma mensagem ser relevante dadas as palavras em seu conteúdo.<br /><br />\n",
    "Para realizar o MVP (*minimum viable product*) do projeto, você precisa implementar uma versão do classificador que \"aprende\" o que é relevante com uma base de treinamento e compara a performance dos resultados com uma base de testes.<br /><br />\n",
    "Após validado, o seu protótipo poderá também capturar e classificar automaticamente as mensagens da plataforma.\n",
    "\n",
    "## Informações do Projeto\n",
    "\n",
    "Prazo: 13/Set até às 23:59.<br />\n",
    "Grupo: 1 ou 2 pessoas.<br /><br />\n",
    "Entregáveis via GitHub: \n",
    "* Arquivo notebook com o código do classificador, seguindo as orientações abaixo.\n",
    "* Arquivo Excel com as bases de treinamento e teste totalmente classificado.\n",
    "\n",
    "**NÃO disponibilizar o arquivo com os *access keys/tokens* do Twitter.**\n",
    "\n",
    "\n",
    "### Check 3: \n",
    "\n",
    "Até o dia 06 de Setembro às 23:59, o notebook e o xlsx devem estar no Github com as seguintes evidências: \n",
    "    * Conta no twitter criada.\n",
    "    * Produto escolhido.\n",
    "    * Arquivo Excel contendo a base de treinamento e teste já classificado.\n",
    "\n",
    "Sugestão de leitura:<br />\n",
    "http://docs.tweepy.org/en/v3.5.0/index.html<br />\n",
    "https://monkeylearn.com/blog/practical-explanation-naive-bayes-classifier/"
   ]
  },
  {
   "cell_type": "markdown",
   "metadata": {},
   "source": [
    "___\n",
    "\n",
    "## Preparando o ambiente\n",
    "\n",
    "Instalando a biblioteca *tweepy* para realizar a conexão com o Twitter:"
   ]
  },
  {
   "cell_type": "code",
   "execution_count": 12,
   "metadata": {
    "collapsed": true
   },
   "outputs": [],
   "source": [
    "%%capture\n",
    "\n",
    "#Instalando o tweepy\n",
    "!pip install tweepy"
   ]
  },
  {
   "cell_type": "markdown",
   "metadata": {},
   "source": [
    "Importando as Bibliotecas que serão utilizadas. Esteja livre para adicionar outras."
   ]
  },
  {
   "cell_type": "code",
   "execution_count": 13,
   "metadata": {
    "collapsed": true
   },
   "outputs": [],
   "source": [
    "import tweepy\n",
    "import math\n",
    "import os.path\n",
    "import pandas as pd\n",
    "import json\n",
    "from string import *\n",
    "from random import shuffle\n",
    "import sys\n",
    "from mpmath import *"
   ]
  },
  {
   "cell_type": "markdown",
   "metadata": {},
   "source": [
    "___\n",
    "## Autenticando no  Twitter\n",
    "\n",
    "Para realizar a captura dos dados é necessário ter uma conta cadastrada no twitter:\n",
    "\n",
    "* Conta: ***@jhp_nt***\n",
    "\n",
    "\n",
    "1. Caso ainda não tenha uma: https://twitter.com/signup\n",
    "1. Depois é necessário registrar um app para usar a biblioteca: https://apps.twitter.com/\n",
    "1. Dentro do registro do App, na aba Keys and Access Tokens, anotar os seguintes campos:\n",
    "    1. Consumer Key (API Key)\n",
    "    1. Consumer Secret (API Secret)\n",
    "1. Mais abaixo, gere um Token e anote também:\n",
    "    1. Access Token\n",
    "    1. Access Token Secret\n",
    "    \n",
    "1. Preencha os valores no arquivo \"auth.pass\"\n",
    "\n",
    "**ATENÇÃO**: Nunca divulgue os dados desse arquivo online (GitHub, etc). Ele contém as chaves necessárias para realizar as operações no twitter de forma automática e portanto é equivalente a ser \"hackeado\". De posse desses dados, pessoas mal intencionadas podem fazer todas as operações manuais (tweetar, seguir, bloquear/desbloquear, listar os seguidores, etc). Para efeito do projeto, esse arquivo não precisa ser entregue!!!"
   ]
  },
  {
   "cell_type": "code",
   "execution_count": 14,
   "metadata": {
    "collapsed": true
   },
   "outputs": [],
   "source": [
    "#Dados de autenticação do twitter:\n",
    "\n",
    "#Coloque aqui o identificador da conta no twitter: @jhp_nt\n",
    "\n",
    "#leitura do arquivo no formato JSON\n",
    "with open(r'C:\\Users\\hpaiv\\Desktop\\Insper\\Pass\\auth.pass') as fp:    \n",
    "    data = json.load(fp)\n",
    "\n",
    "#Configurando a biblioteca. Não modificar\n",
    "auth = tweepy.OAuthHandler(data['consumer_key'], data['consumer_secret'])\n",
    "auth.set_access_token(data['access_token'], data['access_token_secret'])"
   ]
  },
  {
   "cell_type": "markdown",
   "metadata": {},
   "source": [
    "___\n",
    "## Coletando Dados\n",
    "\n",
    "Agora vamos coletar os dados. Tenha em mente que dependendo do produto escolhido, não haverá uma quantidade significativa de mensagens, ou ainda poder haver muitos retweets.<br /><br /> \n",
    "Configurando:"
   ]
  },
  {
   "cell_type": "code",
   "execution_count": 15,
   "metadata": {
    "collapsed": true
   },
   "outputs": [],
   "source": [
    "#Produto escolhido:\n",
    "produto = 'Razer'\n",
    "\n",
    "#Quantidade mínima de mensagens capturadas:\n",
    "n = 500\n",
    "#Quantidade mínima de mensagens para a base de treinamento:\n",
    "t = 300\n",
    "\n",
    "#Filtro de língua, escolha uma na tabela ISO 639-1.\n",
    "lang = 'pt'"
   ]
  },
  {
   "cell_type": "markdown",
   "metadata": {},
   "source": [
    "Capturando os dados do twitter:"
   ]
  },
  {
   "cell_type": "code",
   "execution_count": 16,
   "metadata": {
    "collapsed": true
   },
   "outputs": [],
   "source": [
    "#Cria um objeto para a captura\n",
    "api = tweepy.API(auth)\n",
    "\n",
    "#Inicia a captura, para mais detalhes: ver a documentação do tweepy\n",
    "i = 1\n",
    "msgs = []\n",
    "for msg in tweepy.Cursor(api.search, q=produto, lang=lang).items():    \n",
    "    msgs.append(msg.text.lower())\n",
    "    i += 1\n",
    "    if i > n:\n",
    "        break\n",
    "\n",
    "#Embaralhando as mensagens para reduzir um possível viés\n",
    "shuffle(msgs)"
   ]
  },
  {
   "cell_type": "markdown",
   "metadata": {},
   "source": [
    "Salvando os dados em uma planilha Excel:"
   ]
  },
  {
   "cell_type": "code",
   "execution_count": 17,
   "metadata": {
    "collapsed": true
   },
   "outputs": [],
   "source": [
    "#Verifica se o arquivo não existe para não substituir um conjunto pronto\n",
    "if not os.path.isfile('./{0}.xlsx'.format(produto)):\n",
    "    \n",
    "    #Abre o arquivo para escrita\n",
    "    writer = pd.ExcelWriter('{0}.xlsx'.format(produto))\n",
    "\n",
    "    #divide o conjunto de mensagens em duas planilhas\n",
    "    dft = pd.DataFrame({'Treinamento' : pd.Series(msgs[:t])})\n",
    "    dft.to_excel(excel_writer = writer, sheet_name = 'Treinamento', index = False)\n",
    "\n",
    "    dfc = pd.DataFrame({'Teste' : pd.Series(msgs[t:])})\n",
    "    dfc.to_excel(excel_writer = writer, sheet_name = 'Teste', index = False)\n",
    "\n",
    "    #fecha o arquivo\n",
    "    writer.save()"
   ]
  },
  {
   "cell_type": "markdown",
   "metadata": {},
   "source": [
    "___\n",
    "## Classificando as Mensagens\n",
    "\n",
    "Agora você deve abrir o arquivo Excel com as mensagens capturadas e classificar na Coluna B se a mensagem é relevante ou não.<br /> \n",
    "Não se esqueça de colocar um nome para a coluna na célula **B1**.<br /><br />\n",
    "Fazer o mesmo na planilha de Controle.\n",
    "\n",
    "___\n",
    "## Montando o Classificador Naive-Bayes\n",
    "\n",
    "Com a base de treinamento montada, comece a desenvolver o classificador. Escreva o seu código abaixo:\n",
    "\n",
    "Opcionalmente: \n",
    "* Limpar as mensagens removendo os caracteres: enter, :, \", ', (, ), etc. Não remover emojis.<br />\n",
    "* Corrigir separação de espaços entre palavras e/ou emojis.\n",
    "* Propor outras limpezas/transformações que não afetem a qualidade da informação.\n",
    "\n"
   ]
  },
  {
   "cell_type": "markdown",
   "metadata": {},
   "source": [
    "## Importando a planilha"
   ]
  },
  {
   "cell_type": "code",
   "execution_count": 24,
   "metadata": {},
   "outputs": [
    {
     "data": {
      "text/html": [
       "<div>\n",
       "<style>\n",
       "    .dataframe thead tr:only-child th {\n",
       "        text-align: right;\n",
       "    }\n",
       "\n",
       "    .dataframe thead th {\n",
       "        text-align: left;\n",
       "    }\n",
       "\n",
       "    .dataframe tbody tr th {\n",
       "        vertical-align: top;\n",
       "    }\n",
       "</style>\n",
       "<table border=\"1\" class=\"dataframe\">\n",
       "  <thead>\n",
       "    <tr style=\"text-align: right;\">\n",
       "      <th></th>\n",
       "      <th>Treinamento</th>\n",
       "      <th>definicao</th>\n",
       "    </tr>\n",
       "  </thead>\n",
       "  <tbody>\n",
       "    <tr>\n",
       "      <th>0</th>\n",
       "      <td>gostei de um vídeo do @youtube https://t.co/cr...</td>\n",
       "      <td>1</td>\n",
       "    </tr>\n",
       "    <tr>\n",
       "      <th>1</th>\n",
       "      <td>estou participando do sorteio da vti e-sports ...</td>\n",
       "      <td>1</td>\n",
       "    </tr>\n",
       "    <tr>\n",
       "      <th>2</th>\n",
       "      <td>#oferta stick razer panthera - 3,600 pesos\\nht...</td>\n",
       "      <td>1</td>\n",
       "    </tr>\n",
       "    <tr>\n",
       "      <th>3</th>\n",
       "      <td>rt @flowalts: 🔻sorteo gaming🔻\\narticulo de raz...</td>\n",
       "      <td>1</td>\n",
       "    </tr>\n",
       "    <tr>\n",
       "      <th>4</th>\n",
       "      <td>gostei de um vídeo @youtube https://t.co/w6zdv...</td>\n",
       "      <td>1</td>\n",
       "    </tr>\n",
       "    <tr>\n",
       "      <th>5</th>\n",
       "      <td>gostei de um vídeo @youtube https://t.co/vkhke...</td>\n",
       "      <td>1</td>\n",
       "    </tr>\n",
       "    <tr>\n",
       "      <th>6</th>\n",
       "      <td>gostei de um vídeo @youtube https://t.co/hudnm...</td>\n",
       "      <td>0</td>\n",
       "    </tr>\n",
       "    <tr>\n",
       "      <th>7</th>\n",
       "      <td>gostei de um vídeo @youtube https://t.co/wzkvq...</td>\n",
       "      <td>1</td>\n",
       "    </tr>\n",
       "    <tr>\n",
       "      <th>8</th>\n",
       "      <td>gostei de um vídeo @youtube https://t.co/rhzl6...</td>\n",
       "      <td>1</td>\n",
       "    </tr>\n",
       "    <tr>\n",
       "      <th>9</th>\n",
       "      <td>aprovando varios produtos razer &amp;lt;3 😍😻</td>\n",
       "      <td>0</td>\n",
       "    </tr>\n",
       "    <tr>\n",
       "      <th>10</th>\n",
       "      <td>@razer_julie57 o bordel.</td>\n",
       "      <td>1</td>\n",
       "    </tr>\n",
       "    <tr>\n",
       "      <th>11</th>\n",
       "      <td>gostei de um vídeo @youtube https://t.co/yhyvx...</td>\n",
       "      <td>0</td>\n",
       "    </tr>\n",
       "    <tr>\n",
       "      <th>12</th>\n",
       "      <td>#oferta stick razer panthera a 3,600 pesos\\nht...</td>\n",
       "      <td>1</td>\n",
       "    </tr>\n",
       "    <tr>\n",
       "      <th>13</th>\n",
       "      <td>gostei de um vídeo @youtube https://t.co/szyev...</td>\n",
       "      <td>1</td>\n",
       "    </tr>\n",
       "    <tr>\n",
       "      <th>14</th>\n",
       "      <td>razer wolverine ultimate é o novo controle par...</td>\n",
       "      <td>1</td>\n",
       "    </tr>\n",
       "    <tr>\n",
       "      <th>15</th>\n",
       "      <td>gostei de um vídeo @youtube https://t.co/wew4b...</td>\n",
       "      <td>1</td>\n",
       "    </tr>\n",
       "    <tr>\n",
       "      <th>16</th>\n",
       "      <td>gostei de um vídeo @youtube https://t.co/yzutj...</td>\n",
       "      <td>1</td>\n",
       "    </tr>\n",
       "    <tr>\n",
       "      <th>17</th>\n",
       "      <td>gostei de um vídeo @youtube https://t.co/eorni...</td>\n",
       "      <td>1</td>\n",
       "    </tr>\n",
       "    <tr>\n",
       "      <th>18</th>\n",
       "      <td>mochila de costas rogue - razer por r$ 597,60 ...</td>\n",
       "      <td>1</td>\n",
       "    </tr>\n",
       "    <tr>\n",
       "      <th>19</th>\n",
       "      <td>so a @viimonalisa pra me razer ir virado de no...</td>\n",
       "      <td>1</td>\n",
       "    </tr>\n",
       "    <tr>\n",
       "      <th>20</th>\n",
       "      <td>planos pra madrugada: rejogar life is strange ...</td>\n",
       "      <td>0</td>\n",
       "    </tr>\n",
       "    <tr>\n",
       "      <th>21</th>\n",
       "      <td>ja deixei o adesivo da razer separado pq né, o...</td>\n",
       "      <td>0</td>\n",
       "    </tr>\n",
       "    <tr>\n",
       "      <th>22</th>\n",
       "      <td>skywars jogando com a textura da razer choma! ...</td>\n",
       "      <td>0</td>\n",
       "    </tr>\n",
       "    <tr>\n",
       "      <th>23</th>\n",
       "      <td>rt @xtremegaminges: 💵sorteo perifericos razer💵...</td>\n",
       "      <td>1</td>\n",
       "    </tr>\n",
       "    <tr>\n",
       "      <th>24</th>\n",
       "      <td>estou participando do sorteio da vti e-sports ...</td>\n",
       "      <td>1</td>\n",
       "    </tr>\n",
       "    <tr>\n",
       "      <th>25</th>\n",
       "      <td>pessoas pagando mais de 600 reais em produtos ...</td>\n",
       "      <td>0</td>\n",
       "    </tr>\n",
       "    <tr>\n",
       "      <th>26</th>\n",
       "      <td>rt @flowalts: 🔻sorteo gaming🔻\\narticulo de raz...</td>\n",
       "      <td>1</td>\n",
       "    </tr>\n",
       "    <tr>\n",
       "      <th>27</th>\n",
       "      <td>gostei de um vídeo @youtube https://t.co/hmh2t...</td>\n",
       "      <td>1</td>\n",
       "    </tr>\n",
       "    <tr>\n",
       "      <th>28</th>\n",
       "      <td>@vibeskcc @razer eu só jogo pq ganhei um pc bo...</td>\n",
       "      <td>0</td>\n",
       "    </tr>\n",
       "    <tr>\n",
       "      <th>29</th>\n",
       "      <td>@nutellaodzn vai combinar com meu full razer p...</td>\n",
       "      <td>0</td>\n",
       "    </tr>\n",
       "    <tr>\n",
       "      <th>...</th>\n",
       "      <td>...</td>\n",
       "      <td>...</td>\n",
       "    </tr>\n",
       "    <tr>\n",
       "      <th>270</th>\n",
       "      <td>la webcam razer stargazer ya está disponible h...</td>\n",
       "      <td>1</td>\n",
       "    </tr>\n",
       "    <tr>\n",
       "      <th>271</th>\n",
       "      <td>gostei de um vídeo do @youtube https://t.co/mq...</td>\n",
       "      <td>1</td>\n",
       "    </tr>\n",
       "    <tr>\n",
       "      <th>272</th>\n",
       "      <td>razer anuncia novo comando xbox one de alta pe...</td>\n",
       "      <td>1</td>\n",
       "    </tr>\n",
       "    <tr>\n",
       "      <th>273</th>\n",
       "      <td>@zanettemarques @idmluanleal @fallencs porra m...</td>\n",
       "      <td>0</td>\n",
       "    </tr>\n",
       "    <tr>\n",
       "      <th>274</th>\n",
       "      <td>meu fonezinho do cel ta melhor q o da razer.. krl</td>\n",
       "      <td>0</td>\n",
       "    </tr>\n",
       "    <tr>\n",
       "      <th>275</th>\n",
       "      <td>jogando com a textura da  razer chroma! ‹ sr l...</td>\n",
       "      <td>0</td>\n",
       "    </tr>\n",
       "    <tr>\n",
       "      <th>276</th>\n",
       "      <td>gostei de um vídeo @youtube https://t.co/dovas...</td>\n",
       "      <td>1</td>\n",
       "    </tr>\n",
       "    <tr>\n",
       "      <th>277</th>\n",
       "      <td>rt @xtremegaminges: 💵sorteo perifericos razer💵...</td>\n",
       "      <td>1</td>\n",
       "    </tr>\n",
       "    <tr>\n",
       "      <th>278</th>\n",
       "      <td>rt @xtremegaminges: 💵sorteo perifericos razer💵...</td>\n",
       "      <td>1</td>\n",
       "    </tr>\n",
       "    <tr>\n",
       "      <th>279</th>\n",
       "      <td>rt @xtremegaminges: 💵sorteo perifericos razer💵...</td>\n",
       "      <td>1</td>\n",
       "    </tr>\n",
       "    <tr>\n",
       "      <th>280</th>\n",
       "      <td>@razerbrazil @tecnoshlol patrocina nois também...</td>\n",
       "      <td>0</td>\n",
       "    </tr>\n",
       "    <tr>\n",
       "      <th>281</th>\n",
       "      <td>@razerbrazil ey conseguem resolver meu problem...</td>\n",
       "      <td>0</td>\n",
       "    </tr>\n",
       "    <tr>\n",
       "      <th>282</th>\n",
       "      <td>eu jurava que essa edição do overwatch da raze...</td>\n",
       "      <td>0</td>\n",
       "    </tr>\n",
       "    <tr>\n",
       "      <th>283</th>\n",
       "      <td>computadora gamer de lenovo y razer https://t....</td>\n",
       "      <td>1</td>\n",
       "    </tr>\n",
       "    <tr>\n",
       "      <th>284</th>\n",
       "      <td>gostei de um vídeo @youtube https://t.co/p3nff...</td>\n",
       "      <td>1</td>\n",
       "    </tr>\n",
       "    <tr>\n",
       "      <th>285</th>\n",
       "      <td>rt @flowalts: 🔻sorteo gaming🔻\\narticulo de raz...</td>\n",
       "      <td>1</td>\n",
       "    </tr>\n",
       "    <tr>\n",
       "      <th>286</th>\n",
       "      <td>gostei de um vídeo @youtube https://t.co/iwwrw...</td>\n",
       "      <td>1</td>\n",
       "    </tr>\n",
       "    <tr>\n",
       "      <th>287</th>\n",
       "      <td>venho informar pra vcs q tô sem fone e todo fu...</td>\n",
       "      <td>0</td>\n",
       "    </tr>\n",
       "    <tr>\n",
       "      <th>288</th>\n",
       "      <td>gostei de um vídeo @youtube https://t.co/cviqx...</td>\n",
       "      <td>1</td>\n",
       "    </tr>\n",
       "    <tr>\n",
       "      <th>289</th>\n",
       "      <td>@fallencs estou com dificuldade de configurar ...</td>\n",
       "      <td>0</td>\n",
       "    </tr>\n",
       "    <tr>\n",
       "      <th>290</th>\n",
       "      <td>gostei de um vídeo @youtube https://t.co/jr9ec...</td>\n",
       "      <td>1</td>\n",
       "    </tr>\n",
       "    <tr>\n",
       "      <th>291</th>\n",
       "      <td>gostei de um vídeo @youtube https://t.co/l0nk6...</td>\n",
       "      <td>1</td>\n",
       "    </tr>\n",
       "    <tr>\n",
       "      <th>292</th>\n",
       "      <td>gostei de um vídeo @youtube https://t.co/exbup...</td>\n",
       "      <td>1</td>\n",
       "    </tr>\n",
       "    <tr>\n",
       "      <th>293</th>\n",
       "      <td>@larididone @razer comprou o que a tecla faz t...</td>\n",
       "      <td>0</td>\n",
       "    </tr>\n",
       "    <tr>\n",
       "      <th>294</th>\n",
       "      <td>estou participando do sorteio da vti e-sports ...</td>\n",
       "      <td>1</td>\n",
       "    </tr>\n",
       "    <tr>\n",
       "      <th>295</th>\n",
       "      <td>gostei de um vídeo @youtube https://t.co/8trcn...</td>\n",
       "      <td>1</td>\n",
       "    </tr>\n",
       "    <tr>\n",
       "      <th>296</th>\n",
       "      <td>gostei de um vídeo @youtube https://t.co/3hvod...</td>\n",
       "      <td>1</td>\n",
       "    </tr>\n",
       "    <tr>\n",
       "      <th>297</th>\n",
       "      <td>@zeusking1337 vai bate punheta vendo o pc da r...</td>\n",
       "      <td>0</td>\n",
       "    </tr>\n",
       "    <tr>\n",
       "      <th>298</th>\n",
       "      <td>@fallencs @mucamuricoca tinha de ter razer na ...</td>\n",
       "      <td>0</td>\n",
       "    </tr>\n",
       "    <tr>\n",
       "      <th>299</th>\n",
       "      <td>razer game booster - turbine seu pc para jogos...</td>\n",
       "      <td>1</td>\n",
       "    </tr>\n",
       "  </tbody>\n",
       "</table>\n",
       "<p>300 rows × 2 columns</p>\n",
       "</div>"
      ],
      "text/plain": [
       "                                           Treinamento  definicao\n",
       "0    gostei de um vídeo do @youtube https://t.co/cr...          1\n",
       "1    estou participando do sorteio da vti e-sports ...          1\n",
       "2    #oferta stick razer panthera - 3,600 pesos\\nht...          1\n",
       "3    rt @flowalts: 🔻sorteo gaming🔻\\narticulo de raz...          1\n",
       "4    gostei de um vídeo @youtube https://t.co/w6zdv...          1\n",
       "5    gostei de um vídeo @youtube https://t.co/vkhke...          1\n",
       "6    gostei de um vídeo @youtube https://t.co/hudnm...          0\n",
       "7    gostei de um vídeo @youtube https://t.co/wzkvq...          1\n",
       "8    gostei de um vídeo @youtube https://t.co/rhzl6...          1\n",
       "9             aprovando varios produtos razer &lt;3 😍😻          0\n",
       "10                            @razer_julie57 o bordel.          1\n",
       "11   gostei de um vídeo @youtube https://t.co/yhyvx...          0\n",
       "12   #oferta stick razer panthera a 3,600 pesos\\nht...          1\n",
       "13   gostei de um vídeo @youtube https://t.co/szyev...          1\n",
       "14   razer wolverine ultimate é o novo controle par...          1\n",
       "15   gostei de um vídeo @youtube https://t.co/wew4b...          1\n",
       "16   gostei de um vídeo @youtube https://t.co/yzutj...          1\n",
       "17   gostei de um vídeo @youtube https://t.co/eorni...          1\n",
       "18   mochila de costas rogue - razer por r$ 597,60 ...          1\n",
       "19   so a @viimonalisa pra me razer ir virado de no...          1\n",
       "20   planos pra madrugada: rejogar life is strange ...          0\n",
       "21   ja deixei o adesivo da razer separado pq né, o...          0\n",
       "22   skywars jogando com a textura da razer choma! ...          0\n",
       "23   rt @xtremegaminges: 💵sorteo perifericos razer💵...          1\n",
       "24   estou participando do sorteio da vti e-sports ...          1\n",
       "25   pessoas pagando mais de 600 reais em produtos ...          0\n",
       "26   rt @flowalts: 🔻sorteo gaming🔻\\narticulo de raz...          1\n",
       "27   gostei de um vídeo @youtube https://t.co/hmh2t...          1\n",
       "28   @vibeskcc @razer eu só jogo pq ganhei um pc bo...          0\n",
       "29   @nutellaodzn vai combinar com meu full razer p...          0\n",
       "..                                                 ...        ...\n",
       "270  la webcam razer stargazer ya está disponible h...          1\n",
       "271  gostei de um vídeo do @youtube https://t.co/mq...          1\n",
       "272  razer anuncia novo comando xbox one de alta pe...          1\n",
       "273  @zanettemarques @idmluanleal @fallencs porra m...          0\n",
       "274  meu fonezinho do cel ta melhor q o da razer.. krl          0\n",
       "275  jogando com a textura da  razer chroma! ‹ sr l...          0\n",
       "276  gostei de um vídeo @youtube https://t.co/dovas...          1\n",
       "277  rt @xtremegaminges: 💵sorteo perifericos razer💵...          1\n",
       "278  rt @xtremegaminges: 💵sorteo perifericos razer💵...          1\n",
       "279  rt @xtremegaminges: 💵sorteo perifericos razer💵...          1\n",
       "280  @razerbrazil @tecnoshlol patrocina nois também...          0\n",
       "281  @razerbrazil ey conseguem resolver meu problem...          0\n",
       "282  eu jurava que essa edição do overwatch da raze...          0\n",
       "283  computadora gamer de lenovo y razer https://t....          1\n",
       "284  gostei de um vídeo @youtube https://t.co/p3nff...          1\n",
       "285  rt @flowalts: 🔻sorteo gaming🔻\\narticulo de raz...          1\n",
       "286  gostei de um vídeo @youtube https://t.co/iwwrw...          1\n",
       "287  venho informar pra vcs q tô sem fone e todo fu...          0\n",
       "288  gostei de um vídeo @youtube https://t.co/cviqx...          1\n",
       "289  @fallencs estou com dificuldade de configurar ...          0\n",
       "290  gostei de um vídeo @youtube https://t.co/jr9ec...          1\n",
       "291  gostei de um vídeo @youtube https://t.co/l0nk6...          1\n",
       "292  gostei de um vídeo @youtube https://t.co/exbup...          1\n",
       "293  @larididone @razer comprou o que a tecla faz t...          0\n",
       "294  estou participando do sorteio da vti e-sports ...          1\n",
       "295  gostei de um vídeo @youtube https://t.co/8trcn...          1\n",
       "296  gostei de um vídeo @youtube https://t.co/3hvod...          1\n",
       "297  @zeusking1337 vai bate punheta vendo o pc da r...          0\n",
       "298  @fallencs @mucamuricoca tinha de ter razer na ...          0\n",
       "299  razer game booster - turbine seu pc para jogos...          1\n",
       "\n",
       "[300 rows x 2 columns]"
      ]
     },
     "execution_count": 24,
     "metadata": {},
     "output_type": "execute_result"
    }
   ],
   "source": [
    "df = pd.read_excel('./{0}.xlsx'.format(produto),sheet=\"Treinamento\")\n",
    "df"
   ]
  },
  {
   "cell_type": "markdown",
   "metadata": {},
   "source": [
    "## Transformando o DataFrame em dois (relevante=0 , irrelevante=1)"
   ]
  },
  {
   "cell_type": "code",
   "execution_count": 26,
   "metadata": {},
   "outputs": [],
   "source": [
    "CR = df.loc[df['definicao'] == 0]\n",
    "CI = df.loc[df['definicao'] == 1]"
   ]
  },
  {
   "cell_type": "code",
   "execution_count": 27,
   "metadata": {},
   "outputs": [],
   "source": [
    "LR = []\n",
    "LI = []\n",
    "for i in CR:\n",
    "    LR.append(i)\n",
    "for i in CI:\n",
    "    LI.append(i)"
   ]
  },
  {
   "cell_type": "code",
   "execution_count": 28,
   "metadata": {},
   "outputs": [
    {
     "ename": "SyntaxError",
     "evalue": "invalid syntax (<ipython-input-28-156eb94d44bb>, line 4)",
     "output_type": "error",
     "traceback": [
      "\u001b[1;36m  File \u001b[1;32m\"<ipython-input-28-156eb94d44bb>\"\u001b[1;36m, line \u001b[1;32m4\u001b[0m\n\u001b[1;33m    PTotal[]\u001b[0m\n\u001b[1;37m           ^\u001b[0m\n\u001b[1;31mSyntaxError\u001b[0m\u001b[1;31m:\u001b[0m invalid syntax\n"
     ]
    }
   ],
   "source": [
    "PTotal=[]\n",
    "a=0\n",
    "for u in df['treinamento']:\n",
    "    PTotal[]\n",
    "    a+=1"
   ]
  },
  {
   "cell_type": "code",
   "execution_count": 29,
   "metadata": {
    "collapsed": true
   },
   "outputs": [],
   "source": [
    "i=0\n",
    "\n",
    "while (i < len (LI)):\n",
    "    LI[i]=LI[i].replace(\"_\",\" \")\n",
    "    LI[i]=LI[i].replace(\"'\",\" \")\n",
    "    LI[i]=LI[i].replace(\"?\",\" \")\n",
    "    LI[i]=LI[i].replace(\"$\",\" \")\n",
    "    LI[i]=LI[i].replace(\"*\",\" \")\n",
    "    LI[i]=LI[i].replace(\"%\",\" \")\n",
    "    LI[i]=LI[i].replace(\"-\",\" \")\n",
    "    LI[i]=LI[i].replace(\"<\",\" \")\n",
    "    LI[i]=LI[i].replace(\">\",\" \")\n",
    "    LI[i]=LI[i].replace(\"'\",\" \")\n",
    "    LI[i]=LI[i].replace('\"',\" \")\n",
    "    LI[i]=LI[i].replace(\"!\",\" \")\n",
    "    LI[i]=LI[i].replace(\".\",\" \")\n",
    "    LI[i]=LI[i].replace(\",\",\" \")\n",
    "    LI[i]=LI[i].replace(\"|\",\" \")\n",
    "    LI[i]=LI[i].replace(\":\",\" \")\n",
    "    LI[i]=LI[i].replace(\"&\",\" \")\n",
    "    LI[i]=LI[i].replace(\"\\(\",\" \")\n",
    "    LI[i]=LI[i].replace(\"\\)\",\" \")\n",
    "    i+=1\n",
    "    \n",
    "    \n",
    "    \n",
    "i=0\n",
    "\n",
    "while (i < len (LR)):\n",
    "    LR[i]=LR[i].replace(\"_\",\" \")\n",
    "    LR[i]=LR[i].replace(\"'\",\" \")\n",
    "    LR[i]=LR[i].replace(\"?\",\" \")\n",
    "    LR[i]=LR[i].replace(\"$\",\" \")\n",
    "    LR[i]=LR[i].replace(\"*\",\" \")\n",
    "    LR[i]=LR[i].replace(\"%\",\" \")\n",
    "    LR[i]=LR[i].replace(\"-\",\" \")\n",
    "    LR[i]=LR[i].replace(\"<\",\" \")\n",
    "    LR[i]=LR[i].replace(\">\",\" \")\n",
    "    LR[i]=LR[i].replace(\"'\",\" \")\n",
    "    LR[i]=LR[i].replace('\"',\" \")\n",
    "    LR[i]=LR[i].replace(\"!\",\" \")\n",
    "    LR[i]=LR[i].replace(\".\",\" \")\n",
    "    LR[i]=LR[i].replace(\",\",\" \")\n",
    "    LR[i]=LR[i].replace(\"|\",\" \")\n",
    "    LR[i]=LR[i].replace(\":\",\" \")\n",
    "    LR[i]=LR[i].replace(\"&\",\" \")\n",
    "    LR[i]=LR[i].replace(\"(\",\" \")\n",
    "    LR[i]=LR[i].replace(\")\",\" \")\n",
    "    LR[i]=LR[i].replace(\"+\",\" \")\n",
    "    i+=1"
   ]
  },
  {
   "cell_type": "code",
   "execution_count": 30,
   "metadata": {
    "collapsed": true
   },
   "outputs": [],
   "source": [
    "# for i in CB:\n",
    "#      i.strip(\" /?<>.!$%*\\|;:&'\")\n",
    "# for i in CR:\n",
    "#      i.strip(\" /?<>.!$%*\\|;:&'\")"
   ]
  },
  {
   "cell_type": "code",
   "execution_count": null,
   "metadata": {
    "collapsed": true
   },
   "outputs": [],
   "source": []
  },
  {
   "cell_type": "code",
   "execution_count": 31,
   "metadata": {
    "collapsed": true
   },
   "outputs": [],
   "source": [
    "SR=[]\n",
    "for w in LR:\n",
    "    SR.append(set(w.split()))\n",
    "PR=[]\n",
    "for i in SR:\n",
    "    for y in i:\n",
    "        PR.append(y)"
   ]
  },
  {
   "cell_type": "code",
   "execution_count": 32,
   "metadata": {
    "collapsed": true
   },
   "outputs": [],
   "source": [
    "SI=[]\n",
    "for k in LI:\n",
    "    SI.append(set(k.split()))\n",
    "PI=[]\n",
    "for q in SI:\n",
    "    for l in q:\n",
    "        PI.append(l)"
   ]
  },
  {
   "cell_type": "code",
   "execution_count": 33,
   "metadata": {
    "collapsed": true
   },
   "outputs": [],
   "source": [
    "DICR={}\n",
    "for j in range(len(PR)-1):\n",
    "    cont1=j\n",
    "    cont2=0\n",
    "    for cont1 in range(len(PR)-1):\n",
    "        if PR[j] == PR[cont1+1]:\n",
    "            cont2+=1\n",
    "    DICR[PR[j]]=mpf(cont2)\n",
    "DICI={}\n",
    "for j in range(len(PI)-1):\n",
    "    cont1=j\n",
    "    cont2=0\n",
    "    for cont1 in range(len(PI)-1):\n",
    "        if PI[j] == PI[cont1+1]:\n",
    "            cont2+=1\n",
    "    DICI[PI[j]]=mpf(cont2)  "
   ]
  },
  {
   "cell_type": "code",
   "execution_count": 34,
   "metadata": {
    "collapsed": true
   },
   "outputs": [],
   "source": [
    "for g in DICR:\n",
    "    h=DICR[g]/len(PR)\n",
    "    DICR[g]=h\n",
    "for t in DICI:\n",
    "    h=DICI[t]/len(PI)\n",
    "    DICI[t]=h"
   ]
  },
  {
   "cell_type": "code",
   "execution_count": 35,
   "metadata": {},
   "outputs": [
    {
     "ename": "TypeError",
     "evalue": "cannot create mpf from 196",
     "output_type": "error",
     "traceback": [
      "\u001b[1;31m---------------------------------------------------------------------------\u001b[0m",
      "\u001b[1;31mTypeError\u001b[0m                                 Traceback (most recent call last)",
      "\u001b[1;32m<ipython-input-35-8036294b29d5>\u001b[0m in \u001b[0;36m<module>\u001b[1;34m()\u001b[0m\n\u001b[0;32m      1\u001b[0m \u001b[1;31m#Calculando o P(relevante) e o P(irrelevante)\u001b[0m\u001b[1;33m\u001b[0m\u001b[1;33m\u001b[0m\u001b[0m\n\u001b[1;32m----> 2\u001b[1;33m \u001b[0mCRS\u001b[0m\u001b[1;33m=\u001b[0m\u001b[0mmpf\u001b[0m\u001b[1;33m(\u001b[0m\u001b[0mCR\u001b[0m\u001b[1;33m.\u001b[0m\u001b[0msize\u001b[0m\u001b[1;33m)\u001b[0m\u001b[1;33m\u001b[0m\u001b[0m\n\u001b[0m\u001b[0;32m      3\u001b[0m \u001b[0mCIS\u001b[0m\u001b[1;33m=\u001b[0m\u001b[0mmpf\u001b[0m\u001b[1;33m(\u001b[0m\u001b[0mCI\u001b[0m\u001b[1;33m.\u001b[0m\u001b[0msize\u001b[0m\u001b[1;33m)\u001b[0m\u001b[1;33m\u001b[0m\u001b[0m\n\u001b[0;32m      4\u001b[0m \u001b[0mPRel\u001b[0m\u001b[1;33m=\u001b[0m\u001b[0mCRS\u001b[0m\u001b[1;33m+\u001b[0m\u001b[1;36m1\u001b[0m\u001b[1;33m/\u001b[0m\u001b[1;33m(\u001b[0m\u001b[0mCRS\u001b[0m\u001b[1;33m+\u001b[0m\u001b[0mCIS\u001b[0m\u001b[1;33m)\u001b[0m\u001b[1;33m\u001b[0m\u001b[0m\n\u001b[0;32m      5\u001b[0m \u001b[0mPIel\u001b[0m\u001b[1;33m=\u001b[0m\u001b[0mCIS\u001b[0m\u001b[1;33m+\u001b[0m\u001b[1;36m1\u001b[0m\u001b[1;33m/\u001b[0m\u001b[1;33m(\u001b[0m\u001b[0mCRS\u001b[0m\u001b[1;33m+\u001b[0m\u001b[0mCIS\u001b[0m\u001b[1;33m)\u001b[0m\u001b[1;33m\u001b[0m\u001b[0m\n",
      "\u001b[1;32mC:\\Users\\mathe\\Anaconda3\\lib\\site-packages\\mpmath\\ctx_mp_python.py\u001b[0m in \u001b[0;36m__new__\u001b[1;34m(cls, val, **kwargs)\u001b[0m\n\u001b[0;32m     75\u001b[0m         \u001b[1;32melse\u001b[0m\u001b[1;33m:\u001b[0m\u001b[1;33m\u001b[0m\u001b[0m\n\u001b[0;32m     76\u001b[0m             \u001b[0mv\u001b[0m \u001b[1;33m=\u001b[0m \u001b[0mnew\u001b[0m\u001b[1;33m(\u001b[0m\u001b[0mcls\u001b[0m\u001b[1;33m)\u001b[0m\u001b[1;33m\u001b[0m\u001b[0m\n\u001b[1;32m---> 77\u001b[1;33m             \u001b[0mv\u001b[0m\u001b[1;33m.\u001b[0m\u001b[0m_mpf_\u001b[0m \u001b[1;33m=\u001b[0m \u001b[0mmpf_pos\u001b[0m\u001b[1;33m(\u001b[0m\u001b[0mcls\u001b[0m\u001b[1;33m.\u001b[0m\u001b[0mmpf_convert_arg\u001b[0m\u001b[1;33m(\u001b[0m\u001b[0mval\u001b[0m\u001b[1;33m,\u001b[0m \u001b[0mprec\u001b[0m\u001b[1;33m,\u001b[0m \u001b[0mrounding\u001b[0m\u001b[1;33m)\u001b[0m\u001b[1;33m,\u001b[0m \u001b[0mprec\u001b[0m\u001b[1;33m,\u001b[0m \u001b[0mrounding\u001b[0m\u001b[1;33m)\u001b[0m\u001b[1;33m\u001b[0m\u001b[0m\n\u001b[0m\u001b[0;32m     78\u001b[0m             \u001b[1;32mreturn\u001b[0m \u001b[0mv\u001b[0m\u001b[1;33m\u001b[0m\u001b[0m\n\u001b[0;32m     79\u001b[0m \u001b[1;33m\u001b[0m\u001b[0m\n",
      "\u001b[1;32mC:\\Users\\mathe\\Anaconda3\\lib\\site-packages\\mpmath\\ctx_mp_python.py\u001b[0m in \u001b[0;36mmpf_convert_arg\u001b[1;34m(cls, x, prec, rounding)\u001b[0m\n\u001b[0;32m     94\u001b[0m                 \u001b[1;32mreturn\u001b[0m \u001b[0ma\u001b[0m\u001b[1;33m\u001b[0m\u001b[0m\n\u001b[0;32m     95\u001b[0m             \u001b[1;32mraise\u001b[0m \u001b[0mValueError\u001b[0m\u001b[1;33m(\u001b[0m\u001b[1;34m\"can only create mpf from zero-width interval\"\u001b[0m\u001b[1;33m)\u001b[0m\u001b[1;33m\u001b[0m\u001b[0m\n\u001b[1;32m---> 96\u001b[1;33m         \u001b[1;32mraise\u001b[0m \u001b[0mTypeError\u001b[0m\u001b[1;33m(\u001b[0m\u001b[1;34m\"cannot create mpf from \"\u001b[0m \u001b[1;33m+\u001b[0m \u001b[0mrepr\u001b[0m\u001b[1;33m(\u001b[0m\u001b[0mx\u001b[0m\u001b[1;33m)\u001b[0m\u001b[1;33m)\u001b[0m\u001b[1;33m\u001b[0m\u001b[0m\n\u001b[0m\u001b[0;32m     97\u001b[0m \u001b[1;33m\u001b[0m\u001b[0m\n\u001b[0;32m     98\u001b[0m     \u001b[1;33m@\u001b[0m\u001b[0mclassmethod\u001b[0m\u001b[1;33m\u001b[0m\u001b[0m\n",
      "\u001b[1;31mTypeError\u001b[0m: cannot create mpf from 196"
     ]
    }
   ],
   "source": [
    "#Calculando o P(relevante) e o P(irrelevante)\n",
    "CRS=mpf(CR.size)\n",
    "CIS=mpf(CI.size)\n",
    "PRel=CRS+1/(CRS+CIS)\n",
    "PIel=CIS+1/(CRS+CIS)"
   ]
  },
  {
   "cell_type": "code",
   "execution_count": 38,
   "metadata": {},
   "outputs": [
    {
     "name": "stdout",
     "output_type": "stream",
     "text": [
      "1\n",
      "1\n"
     ]
    }
   ],
   "source": [
    "print (len(DICR))\n",
    "print (len(DICI))"
   ]
  },
  {
   "cell_type": "code",
   "execution_count": 37,
   "metadata": {},
   "outputs": [
    {
     "name": "stdout",
     "output_type": "stream",
     "text": [
      "Total de palavras é:\n",
      "Total de palavras Irrelevantes é:\n",
      "Total de palavras Relevantes é:\n",
      "Total de palavras sem repetição é:\n",
      "Total de palavras Irrelevantes sem repetição é:\n",
      "Total de palavras Relevantes sem repetição é:\n"
     ]
    }
   ],
   "source": [
    "\n",
    "\n",
    "print(\"Total de palavras é:\")\n",
    "print(\"Total de palavras Irrelevantes é:\")\n",
    "print(\"Total de palavras Relevantes é:\")\n",
    "print(\"Total de palavras sem repetição é:\")\n",
    "print(\"Total de palavras Irrelevantes sem repetição é:\")\n",
    "print(\"Total de palavras Relevantes sem repetição é:\")"
   ]
  },
  {
   "cell_type": "code",
   "execution_count": null,
   "metadata": {
    "collapsed": true
   },
   "outputs": [],
   "source": []
  },
  {
   "cell_type": "markdown",
   "metadata": {},
   "source": [
    "___\n",
    "## Verificando a performance\n",
    "\n",
    "Agora você deve testar o seu Classificador com a base de Testes.<br /><br /> \n",
    "\n",
    "Você deve extrair as seguintes medidas:\n",
    "* Porcentagem de positivos falsos (marcados como relevante mas não são relevantes)\n",
    "* Porcentagem de positivos verdadeiros (marcado como relevante e são relevantes)\n",
    "* Porcentagem de negativos verdadeiros (marcado como não relevante e não são relevantes)\n",
    "* Porcentagem de negativos falsos (marcado como não relevante e são relevantes)\n",
    "\n",
    "Opcionalmente:\n",
    "* Criar categorias intermediárias de relevância baseado na diferença de probabilidades. Exemplo: muito relevante, relevante, neutro, irrelevante e muito irrelevante."
   ]
  },
  {
   "cell_type": "code",
   "execution_count": null,
   "metadata": {
    "collapsed": true,
    "scrolled": true
   },
   "outputs": [],
   "source": []
  },
  {
   "cell_type": "markdown",
   "metadata": {
    "collapsed": true
   },
   "source": [
    "___\n",
    "## Concluindo\n",
    "\n",
    "Escreva aqui a sua conclusão.<br /> \n",
    "Faça um comparativo qualitativo sobre as medidas obtidas.<br />\n",
    "Explique como são tratadas as mensagens com dupla negação e sarcasmo.<br />\n",
    "Proponha um plano de expansão. Por que eles devem continuar financiando o seu projeto?<br />\n",
    "\n",
    "Opcionalmente: \n",
    "* Discorrer por que não posso alimentar minha base de Treinamento automaticamente usando o próprio classificador, aplicado a novos tweets.\n",
    "* Propor diferentes cenários de uso para o classificador Naive-Bayes. Cenários sem intersecção com este projeto.\n",
    "* Sugerir e explicar melhorias reais no classificador com indicações concretas de como implementar (não é preciso codificar, mas indicar como fazer e material de pesquisa sobre o assunto).\n"
   ]
  },
  {
   "cell_type": "code",
   "execution_count": 40,
   "metadata": {},
   "outputs": [
    {
     "name": "stdout",
     "output_type": "stream",
     "text": [
      "Treinamento\n",
      "definicao\n",
      "['Treinamento', 'definicao']\n"
     ]
    }
   ],
   "source": []
  },
  {
   "cell_type": "code",
   "execution_count": null,
   "metadata": {
    "collapsed": true
   },
   "outputs": [],
   "source": []
  }
 ],
 "metadata": {
  "kernelspec": {
   "display_name": "Python 3",
   "language": "python",
   "name": "python3"
  },
  "language_info": {
   "codemirror_mode": {
    "name": "ipython",
    "version": 3
   },
   "file_extension": ".py",
   "mimetype": "text/x-python",
   "name": "python",
   "nbconvert_exporter": "python",
   "pygments_lexer": "ipython3",
   "version": "3.6.1"
  }
 },
 "nbformat": 4,
 "nbformat_minor": 1
}
